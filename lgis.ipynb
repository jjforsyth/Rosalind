{
 "cells": [
  {
   "cell_type": "code",
   "execution_count": 31,
   "id": "ade58111-4b34-4856-87e1-043ea32df338",
   "metadata": {
    "tags": []
   },
   "outputs": [],
   "source": [
    "# Opens file and reads it\n",
    "with open('./Text_Files/rosalind_lgis.txt', 'r') as f:\n",
    "    lines = f.readlines()\n",
    "    for i in range(len(lines)):\n",
    "        lines[i]=lines[i].replace('\\n', '')"
   ]
  },
  {
   "cell_type": "code",
   "execution_count": 32,
   "id": "dfd4dc04-ca3f-4a53-83fe-533d132156fc",
   "metadata": {
    "tags": []
   },
   "outputs": [
    {
     "data": {
      "text/plain": [
       "['5', '5 1 4 2 3']"
      ]
     },
     "execution_count": 32,
     "metadata": {},
     "output_type": "execute_result"
    }
   ],
   "source": [
    "lines"
   ]
  },
  {
   "cell_type": "code",
   "execution_count": 33,
   "id": "81b4731b-abf7-4ef8-a489-245c4549a72d",
   "metadata": {
    "tags": []
   },
   "outputs": [
    {
     "data": {
      "text/plain": [
       "'4'"
      ]
     },
     "execution_count": 33,
     "metadata": {},
     "output_type": "execute_result"
    }
   ],
   "source": [
    "max(lines[1].split()[1:])"
   ]
  },
  {
   "cell_type": "code",
   "execution_count": 39,
   "id": "f811d707-aed5-487c-98dd-7a0ace662d65",
   "metadata": {},
   "outputs": [
    {
     "ename": "IndentationError",
     "evalue": "expected an indented block (3539605899.py, line 14)",
     "output_type": "error",
     "traceback": [
      "\u001b[0;36m  Input \u001b[0;32mIn [39]\u001b[0;36m\u001b[0m\n\u001b[0;31m    return ans\u001b[0m\n\u001b[0m    ^\u001b[0m\n\u001b[0;31mIndentationError\u001b[0m\u001b[0;31m:\u001b[0m expected an indented block\n"
     ]
    }
   ],
   "source": [
    "def inc_seq(n, pi):\n",
    "    \n",
    "    pi = pi.split()\n",
    "    pi = [ int(x) for x in pi ]\n",
    "    \n",
    "    ans = []\n",
    "    temp1 = []\n",
    "    \n",
    "    inc_list = []\n",
    "    \n",
    "    for n in range(len(pi)):\n",
    "        \n",
    "    \n",
    "    return ans"
   ]
  },
  {
   "cell_type": "code",
   "execution_count": 38,
   "id": "580bf98c-121f-4c36-997b-13dc13873446",
   "metadata": {
    "tags": []
   },
   "outputs": [
    {
     "data": {
      "text/plain": [
       "[5, 4, 2, 3]"
      ]
     },
     "execution_count": 38,
     "metadata": {},
     "output_type": "execute_result"
    }
   ],
   "source": [
    "inc_seq(lines[1])"
   ]
  },
  {
   "cell_type": "code",
   "execution_count": 14,
   "id": "2a745f78-dd0a-4d61-9640-36c6f49b267c",
   "metadata": {
    "tags": []
   },
   "outputs": [],
   "source": [
    "pi = lines[1].split()\n",
    "pi = [ int(x) for x in pi ]"
   ]
  },
  {
   "cell_type": "code",
   "execution_count": 24,
   "id": "cd380094-7c85-4daf-bfef-892a9ecef888",
   "metadata": {
    "tags": []
   },
   "outputs": [],
   "source": [
    "j2 = [x for x in pi if x >= 2]"
   ]
  },
  {
   "cell_type": "code",
   "execution_count": 25,
   "id": "fb76247e-189a-4665-8d85-dff3dc14047c",
   "metadata": {
    "tags": []
   },
   "outputs": [
    {
     "data": {
      "text/plain": [
       "[5, 4, 2, 3]"
      ]
     },
     "execution_count": 25,
     "metadata": {},
     "output_type": "execute_result"
    }
   ],
   "source": [
    "j2"
   ]
  },
  {
   "cell_type": "code",
   "execution_count": null,
   "id": "a22386d1-2810-4083-b8cd-07defcd7dc71",
   "metadata": {},
   "outputs": [],
   "source": []
  }
 ],
 "metadata": {
  "kernelspec": {
   "display_name": "Python 3 (ipykernel)",
   "language": "python",
   "name": "python3"
  },
  "language_info": {
   "codemirror_mode": {
    "name": "ipython",
    "version": 3
   },
   "file_extension": ".py",
   "mimetype": "text/x-python",
   "name": "python",
   "nbconvert_exporter": "python",
   "pygments_lexer": "ipython3",
   "version": "3.8.9"
  }
 },
 "nbformat": 4,
 "nbformat_minor": 5
}

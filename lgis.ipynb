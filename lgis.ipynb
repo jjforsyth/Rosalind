{
 "cells": [
  {
   "cell_type": "markdown",
   "id": "681d2731-098c-445b-b108-793110dcde38",
   "metadata": {},
   "source": [
    "Return: A longest increasing subsequence of π, followed by a longest decreasing subsequence of π.\n",
    "\n",
    "See problem here: https://rosalind.info/problems/lgis/"
   ]
  },
  {
   "cell_type": "code",
   "execution_count": 52,
   "id": "ade58111-4b34-4856-87e1-043ea32df338",
   "metadata": {
    "tags": []
   },
   "outputs": [],
   "source": [
    "# Opens file and reads it\n",
    "with open('./Text_Files/rosalind_lgis.txt', 'r') as f:\n",
    "    lines = f.readlines()\n",
    "    for i in range(len(lines)):\n",
    "        lines[i]=lines[i].replace('\\n', '')"
   ]
  },
  {
   "cell_type": "code",
   "execution_count": 53,
   "id": "ff6428c6-e118-4171-baa6-f1a7d10e146d",
   "metadata": {},
   "outputs": [
    {
     "data": {
      "text/plain": [
       "'9038'"
      ]
     },
     "execution_count": 53,
     "metadata": {},
     "output_type": "execute_result"
    }
   ],
   "source": [
    "lines[0]"
   ]
  },
  {
   "cell_type": "code",
   "execution_count": 24,
   "id": "f685b501-3c4e-422a-9ceb-f7ba39093b70",
   "metadata": {},
   "outputs": [],
   "source": [
    "def increasing(seq):\n",
    "    P = [None] * len(seq)\n",
    "    M = [None] * len(seq)\n",
    "\n",
    "    L = 1\n",
    "    M[0] = 0\n",
    "    for i in range(1, len(seq)):\n",
    "        lo = 0\n",
    "        hi = L\n",
    "        if seq[M[hi - 1]] < seq[i]:\n",
    "            j = hi\n",
    "        else:\n",
    "            while hi - lo > 1:\n",
    "                mid = (hi + lo) // 2\n",
    "                if seq[M[mid - 1]] < seq[i]:\n",
    "                    lo = mid\n",
    "                else:\n",
    "                    hi = mid\n",
    "\n",
    "            j = lo\n",
    "        P[i] = M[j - 1]\n",
    "        if j == L or seq[i] < seq[M[j]]:\n",
    "            M[j] = i\n",
    "            L = max(L, j + 1)\n",
    "\n",
    "    result = []\n",
    "    pos = M[L - 1]\n",
    "    for k in range(L):\n",
    "        result.append(seq[pos])\n",
    "        pos = P[pos]\n",
    "\n",
    "    return (result[::-1])"
   ]
  },
  {
   "cell_type": "code",
   "execution_count": 25,
   "id": "c6d2709d-bab8-4104-a0fe-f0faa2dd89c4",
   "metadata": {},
   "outputs": [],
   "source": [
    "def decreasing(seq):\n",
    "    P = [None] * len(seq)\n",
    "    M = [None] * len(seq)\n",
    "\n",
    "    L = 1\n",
    "    M[0] = 0\n",
    "    for i in range(1, len(seq)):\n",
    "        lo = 0\n",
    "        hi = L\n",
    "        if seq[M[hi - 1]] > seq[i]:\n",
    "            j = hi\n",
    "        else:\n",
    "            while hi - lo > 1:\n",
    "                mid = (hi + lo) // 2\n",
    "                if seq[M[mid - 1]] > seq[i]:\n",
    "                    lo = mid\n",
    "                else:\n",
    "                    hi = mid\n",
    "\n",
    "            j = lo\n",
    "        P[i] = M[j - 1]\n",
    "        if j == L or seq[i] > seq[M[j]]:\n",
    "            M[j] = i\n",
    "            L = max(L, j + 1)\n",
    "\n",
    "    result = []\n",
    "    pos = M[L - 1]\n",
    "    for k in range(L):\n",
    "        result.append(seq[pos])\n",
    "        pos = P[pos]\n",
    "\n",
    "    return (result[::-1])"
   ]
  },
  {
   "cell_type": "code",
   "execution_count": 54,
   "id": "8adacbbd-b786-4d30-8bab-fd2f054aa58d",
   "metadata": {},
   "outputs": [],
   "source": [
    "converted=[]\n",
    "\n",
    "for i in lines[1].split():\n",
    "    converted.append(int(i))"
   ]
  },
  {
   "cell_type": "code",
   "execution_count": 57,
   "id": "b525bcd8-781f-4275-ba56-b312c0668c1b",
   "metadata": {},
   "outputs": [
    {
     "name": "stdout",
     "output_type": "stream",
     "text": [
      "4 28 72 92 97 153 178 207 218 242 266 279 293 310 349 362 406 451 477 486 493 512 565 582 588 672 709 723 764 829 904 950 972 1019 1088 1110 1138 1161 1206 1272 1353 1359 1381 1521 1536 1542 1544 1556 1590 1603 1655 1765 1766 1807 1815 1823 1828 1832 1902 1990 2013 2076 2190 2195 2220 2271 2310 2328 2374 2384 2385 2387 2392 2512 2553 2591 2658 2662 2673 2681 2692 2756 2778 2791 2899 2966 2990 3043 3105 3136 3257 3381 3428 3504 3674 3677 3721 3759 4026 4033 4058 4078 4139 4149 4174 4215 4251 4255 4267 4447 4456 4461 4609 4639 4700 4723 4811 4812 4837 4865 4879 4892 5050 5085 5109 5274 5407 5438 5579 5612 5674 5747 5756 5817 5845 5955 6034 6089 6159 6177 6252 6274 6302 6329 6353 6434 6471 6475 6530 6575 6605 6666 6694 6789 6919 7033 7051 7111 7183 7202 7212 7219 7255 7261 7365 7610 7650 7673 7690 7978 8115 8212 8346 8372 8493 8576 8612 8751 8752 8814 8973\n",
      "8985 8984 8969 8961 8955 8939 8913 8898 8839 8776 8759 8515 8485 8472 8465 8426 8389 8264 8250 8177 8105 8072 7971 7950 7930 7910 7896 7880 7857 7815 7738 7708 7701 7648 7433 7334 7309 7281 7249 7207 7205 7204 7143 7083 6998 6976 6973 6927 6907 6889 6840 6788 6785 6719 6679 6673 6552 6549 6529 6406 6303 6183 6154 6130 6129 6047 6013 5995 5976 5865 5862 5836 5823 5768 5584 5549 5377 5350 5329 5033 5031 4978 4842 4831 4783 4735 4733 4677 4652 4601 4593 4583 4581 4571 4541 4513 4509 4499 4414 4324 4275 4219 4213 4201 4198 4158 4144 4072 3976 3953 3908 3797 3793 3722 3668 3651 3646 3604 3510 3498 3446 3386 3381 3301 3274 3269 3216 3103 3013 3009 2907 2846 2728 2668 2619 2618 2612 2605 2579 2525 2521 2428 2399 2377 2344 2308 2235 2228 2208 2036 1927 1855 1796 1736 1712 1645 1602 1579 1506 1441 1425 1278 1274 1247 1227 1204 1175 1136 976 975 881 858 837 721 718 616 561 254 219 188 158 125 78 75\n"
     ]
    }
   ],
   "source": [
    "incr = increasing(converted)\n",
    "decr = decreasing(converted)\n",
    "\n",
    "print(*incr)\n",
    "print(*decr)"
   ]
  }
 ],
 "metadata": {
  "kernelspec": {
   "display_name": "Python 3 (ipykernel)",
   "language": "python",
   "name": "python3"
  },
  "language_info": {
   "codemirror_mode": {
    "name": "ipython",
    "version": 3
   },
   "file_extension": ".py",
   "mimetype": "text/x-python",
   "name": "python",
   "nbconvert_exporter": "python",
   "pygments_lexer": "ipython3",
   "version": "3.9.12"
  }
 },
 "nbformat": 4,
 "nbformat_minor": 5
}

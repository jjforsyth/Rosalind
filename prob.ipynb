{
 "cells": [
  {
   "cell_type": "markdown",
   "id": "d224a527-92eb-41a5-84ce-b351a29d3da8",
   "metadata": {},
   "source": [
    "Given: A DNA string s of length at most 100 bp and an array A containing at most 20 numbers between 0 and 1.\n",
    "\n",
    "Return: An array B having the same length as A in which B[k] represents the common logarithm of the probability that a random string constructed with the GC-content found in A[k] will match s exactly.\n",
    "\n",
    "See more info here: https://rosalind.info/problems/prob/"
   ]
  },
  {
   "cell_type": "code",
   "execution_count": 1,
   "id": "ed4847c9-5b3c-4e0a-8e5f-27c51b84ac4a",
   "metadata": {},
   "outputs": [],
   "source": [
    "# Opens file and reads it\n",
    "with open('./Text_Files/rosalind_prob.txt', 'r') as f:\n",
    "    lines = f.readlines()\n",
    "    for i in range(len(lines)):\n",
    "        lines[i]=lines[i].replace('\\n', '')"
   ]
  },
  {
   "cell_type": "code",
   "execution_count": 2,
   "id": "0953fc8c-f682-4be6-b4eb-7880a21bbabb",
   "metadata": {},
   "outputs": [
    {
     "data": {
      "text/plain": [
       "['TTCATAGAGCGAAGGTAAGAACTAGGACTCCAAACACTGTTAATAGTAGGCTAAATCATTTAGAAAAGATAGCAATGCCATTATCGAC',\n",
       " '0.093 0.175 0.211 0.304 0.356 0.394 0.493 0.523 0.585 0.647 0.746 0.751 0.855 0.877']"
      ]
     },
     "execution_count": 2,
     "metadata": {},
     "output_type": "execute_result"
    }
   ],
   "source": [
    "lines"
   ]
  },
  {
   "cell_type": "code",
   "execution_count": 3,
   "id": "b6370211-ab60-47e4-a9e2-b7b162d3e1e5",
   "metadata": {},
   "outputs": [
    {
     "name": "stdout",
     "output_type": "stream",
     "text": [
      "TTCATAGAGCGAAGGTAAGAACTAGGACTCCAAACACTGTTAATAGTAGGCTAAATCATTTAGAAAAGATAGCAATGCCATTATCGAC\n",
      "[0.093, 0.175, 0.211, 0.304, 0.356, 0.394, 0.493, 0.523, 0.585, 0.647, 0.746, 0.751, 0.855, 0.877]\n"
     ]
    }
   ],
   "source": [
    "s = lines[0]\n",
    "A= [float(i) for i  in lines[1].split()] #Converting the strings into floats and putting them in a list\n",
    "print(s)\n",
    "print(A)"
   ]
  },
  {
   "cell_type": "code",
   "execution_count": 4,
   "id": "4b23ee8d-47f4-4767-ac4c-975971b451f1",
   "metadata": {},
   "outputs": [
    {
     "name": "stdout",
     "output_type": "stream",
     "text": [
      "56 32\n"
     ]
    }
   ],
   "source": [
    "at = s.count('A') + s.count('T') # Count of A and T\n",
    "gc = s.count('G') + s.count('C') # Count of G and C\n",
    "print(at, gc)"
   ]
  },
  {
   "cell_type": "code",
   "execution_count": 5,
   "id": "ee5f605e-b443-405f-88a5-5af58e4d54c3",
   "metadata": {},
   "outputs": [
    {
     "name": "stdout",
     "output_type": "stream",
     "text": [
      "-61.873 -55.392 -53.877 -51.853 -51.547 -51.616 -52.839 -53.502 -55.331 -57.866 -63.892 -64.283 -75.631 -79.280\n"
     ]
    }
   ],
   "source": [
    "from math import log10\n",
    "\n",
    "logs_list = [(at * log10((1-i)/2) + gc * log10(i/2)) for i in A] #List of probablities based on number of ATs in s x their log probability x the number of GC in s x their log proability\n",
    "print(' '.join(f\"{num:.3f}\" for num in logs_list)) #printing to 3 decimal points"
   ]
  }
 ],
 "metadata": {
  "kernelspec": {
   "display_name": "Python 3 (ipykernel)",
   "language": "python",
   "name": "python3"
  },
  "language_info": {
   "codemirror_mode": {
    "name": "ipython",
    "version": 3
   },
   "file_extension": ".py",
   "mimetype": "text/x-python",
   "name": "python",
   "nbconvert_exporter": "python",
   "pygments_lexer": "ipython3",
   "version": "3.12.1"
  }
 },
 "nbformat": 4,
 "nbformat_minor": 5
}

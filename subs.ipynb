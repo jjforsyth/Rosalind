{
 "cells": [
  {
   "cell_type": "markdown",
   "id": "abe27d9d",
   "metadata": {},
   "source": [
    "Finds a motif within a DNA String\n",
    "\n",
    "See associated problem here: https://rosalind.info/problems/subs/"
   ]
  },
  {
   "cell_type": "code",
   "execution_count": 1,
   "id": "6aa3a3fe",
   "metadata": {},
   "outputs": [],
   "source": [
    "with open('./Text_Files/rosalind_subs.txt', 'r') as f:\n",
    "    lines = f.readlines()\n",
    "    DNA = lines[0]\n",
    "    DNA = DNA.replace('\\n', '')\n",
    "    motif = lines[1]\n",
    "    motif = motif.replace('\\n', '')"
   ]
  },
  {
   "cell_type": "code",
   "execution_count": 2,
   "id": "603db362",
   "metadata": {},
   "outputs": [
    {
     "data": {
      "text/plain": [
       "'CTTATACGGGATACGGGGATACGGGTATACGGGGATACGGGTTCCCTCAGATACGGGATACGGGTCAGCTCGGCGGCTATACGGGATAGATACGGGATACGGGACCTTGATACGGGTTTATACGGGAGATACGGGAGGATACGGGATACGGGAGTTCTATACGGGATACGGGTATATACGGGCCATACGGGATACGGGCCCCTCTAATTCGATACGGGTATACGGGAACATACGGGGAATACGGGATAGTATTATACGGGATAATACGGGTCATACGGGCGGATACGGGATACGGGCTCATACGGGATACGGGCTATACGGGCATACGGGTCGAGACATACGGGATGCTCACCGATACGGGGCATACGGGATACGGGAATACGGGGCTCATACGGGCTCATATACGGGGCATACGGGATACGGGACGATACGGGTGATACGGGATACGGGAAATACGGGCATACGGGACTATACGGGGTCAATGCACTATACGGGGCGAATACGGGTAGCCCTCGATACGGGGATACGGGCTTGATACGGGATCTATACGGGAATACGGGGTATACGGGTATACGGGATACGGGTATACGGGTAATTGATACGGGAAGTTATACGGGTCTTATACGGGGTATACGGGATACGGGTTCTATTAATACGGGGCCCAATATACGGGTATACGGGATACGGGATACGGGATACGGGTATAGGATACGGGTTAGTGGAATACGGGCTATCATACGGGATATACGGGATACGGGATATACGGGATACGGGCACACCTATAATTTACCGCATACGGGATACGGG'"
      ]
     },
     "execution_count": 2,
     "metadata": {},
     "output_type": "execute_result"
    }
   ],
   "source": [
    "DNA"
   ]
  },
  {
   "cell_type": "code",
   "execution_count": 3,
   "id": "18b10d97",
   "metadata": {},
   "outputs": [
    {
     "data": {
      "text/plain": [
       "'ATACGGGAT'"
      ]
     },
     "execution_count": 3,
     "metadata": {},
     "output_type": "execute_result"
    }
   ],
   "source": [
    "motif"
   ]
  },
  {
   "cell_type": "code",
   "execution_count": 4,
   "id": "30004460",
   "metadata": {},
   "outputs": [],
   "source": [
    "locations = []"
   ]
  },
  {
   "cell_type": "code",
   "execution_count": 5,
   "id": "9b29ebd5",
   "metadata": {},
   "outputs": [],
   "source": [
    "for i in range(len(DNA)):\n",
    "    if DNA[i:].startswith(motif):\n",
    "        locations.append(i+1)"
   ]
  },
  {
   "cell_type": "code",
   "execution_count": 6,
   "id": "1c731885",
   "metadata": {},
   "outputs": [
    {
     "name": "stdout",
     "output_type": "stream",
     "text": [
      "4 51 79 90 139 159 185 239 254 283 300 338 364 411 437 535 571 631 675 682 689 736 745 752 761 794\n"
     ]
    }
   ],
   "source": [
    "print(str(locations).replace(',','').replace('[','').replace(']',''))"
   ]
  }
 ],
 "metadata": {
  "kernelspec": {
   "display_name": "Python 3 (ipykernel)",
   "language": "python",
   "name": "python3"
  },
  "language_info": {
   "codemirror_mode": {
    "name": "ipython",
    "version": 3
   },
   "file_extension": ".py",
   "mimetype": "text/x-python",
   "name": "python",
   "nbconvert_exporter": "python",
   "pygments_lexer": "ipython3",
   "version": "3.12.1"
  }
 },
 "nbformat": 4,
 "nbformat_minor": 5
}

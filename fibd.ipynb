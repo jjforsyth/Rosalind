{
 "cells": [
  {
   "cell_type": "code",
   "execution_count": 24,
   "id": "f4d62705",
   "metadata": {
    "tags": []
   },
   "outputs": [],
   "source": [
    "# Opens file and reads it\n",
    "with open('./Text_Files/rosalind_fibd.txt', 'r') as f:\n",
    "    lines = f.readlines()\n",
    "    for i in range(len(lines)):\n",
    "        lines[i]=lines[i].replace('\\n', '')"
   ]
  },
  {
   "cell_type": "code",
   "execution_count": 25,
   "id": "f0fc7b2b",
   "metadata": {
    "tags": []
   },
   "outputs": [
    {
     "data": {
      "text/plain": [
       "'91 18'"
      ]
     },
     "execution_count": 25,
     "metadata": {},
     "output_type": "execute_result"
    }
   ],
   "source": [
    "lines[0]"
   ]
  },
  {
   "cell_type": "code",
   "execution_count": 26,
   "id": "31cf4556",
   "metadata": {
    "tags": []
   },
   "outputs": [],
   "source": [
    "def fibd(n, m): #n = n-th month count, m = number of months rabbit lives\n",
    "    generation = [0]*m\n",
    "    generation[0], generation[1] = 0,1\n",
    "    for i in range(2, n):\n",
    "        temp = list(generation)\n",
    "        generation[0] = sum(generation[1:]) #number of new born\n",
    "        for j in range(1,m): \n",
    "            generation[j] = temp[j-1]    \n",
    "    return sum(generation)\n",
    "\n",
    "#Taken from https://duphan.wordpress.com/2015/07/10/dynamic-programming-and-mortal-fibonacci-rabbits/"
   ]
  },
  {
   "cell_type": "code",
   "execution_count": 27,
   "id": "2afe7a83",
   "metadata": {},
   "outputs": [
    {
     "data": {
      "text/plain": [
       "4633115987862944434"
      ]
     },
     "execution_count": 27,
     "metadata": {},
     "output_type": "execute_result"
    }
   ],
   "source": [
    "fibd(91, 18)"
   ]
  }
 ],
 "metadata": {
  "kernelspec": {
   "display_name": "Python 3 (ipykernel)",
   "language": "python",
   "name": "python3"
  },
  "language_info": {
   "codemirror_mode": {
    "name": "ipython",
    "version": 3
   },
   "file_extension": ".py",
   "mimetype": "text/x-python",
   "name": "python",
   "nbconvert_exporter": "python",
   "pygments_lexer": "ipython3",
   "version": "3.8.9"
  }
 },
 "nbformat": 4,
 "nbformat_minor": 5
}

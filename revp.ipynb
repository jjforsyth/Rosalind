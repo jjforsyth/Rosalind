{
 "cells": [
  {
   "cell_type": "markdown",
   "id": "7474e48e",
   "metadata": {},
   "source": [
    "Finds all reverse palindromes within a fasta file\n",
    "\n",
    "See associated problem here: https://rosalind.info/problems/revp/"
   ]
  },
  {
   "cell_type": "code",
   "execution_count": 5,
   "id": "d88d2121",
   "metadata": {},
   "outputs": [],
   "source": [
    "with open('./Text_Files/rosalind_revp.txt', 'r') as f:\n",
    "    lines = f.readlines()\n",
    "    DNA = \"\".join(lines[1:int(len(lines))]).replace('\\n','')"
   ]
  },
  {
   "cell_type": "code",
   "execution_count": 6,
   "id": "057698f1",
   "metadata": {},
   "outputs": [
    {
     "name": "stdout",
     "output_type": "stream",
     "text": [
      "ATATATACCAGTATACCAACAGCAGTAATTCGCGGCATCAACCTTACCACCATTCTAATTTGTCAATCTCGGTCAAAGGTCTTCGAGACGTCGTTACCGGCGGTCGATAGGAACGCCCTATTCTCAGGTATCATCGCGATTGTCGCGAGGGAACTCTATACAGGACGATTGTGAATTGAGTAGGTTGGGAATAGAGAGCGATTACTAAGGAATTACCACTGGTCGAGTTGTAGAGTGGAGGATGCAAACCCCCTAGCGACAGGAGATTGACATATTGAGCGATCTTGTTCGCGTAAAGTGAGCGCGCAATGTGTCCTATCTACGTGCTACCTTGAGGGAACTGCCACCACGTGGGCGTTGTTGCTCGCCCTCAGTTAGGATTGCCCGGTTGGAGTCACCTCGGTTCATTGAGGAGGATACTTTGTCTGGTGTAGCCAGGGCTCCCCGGCGACAAACATACGTAAGTGCCCGGGCACCCAAATTAAGCTGAGTGTCGTCTTCATGTACAGTTTACATATCGCAGAAGGGAAATTACTAACAGCCGATTATACGATAGCCAGCACGGCAGTTAGTCTTCATATTTGCTGTTAATCTCGACAACAGGGCACAGCTGAACATAACGCCGTAAGACATTAGTGAACGATCATATCTTTCTTCAACCTCAAACGTAGCGCGCTGGTGTTTTTGATAATGTAATCAGGTGGCGCGAAGTGACAACTGGGTCGTGTGGGCTGATTGTTAACGCATCCCCGCGTTCGGTATGACTTGAGCTATCCGAGGGCGTGCGTAGGACATAGGAGATGCATATGGCTGTTTACGCCTGCATGCGGAATCTCCAGAAGAAAGGAATGTGTAATCATAGCAAGACTGGGCGTTTGAAAATGGCTACAACCACTGTGGACACAACGTCTTAGCTTGCTACTGGGCCCCTCATGCGCGC\n"
     ]
    }
   ],
   "source": [
    "print(DNA)"
   ]
  },
  {
   "cell_type": "code",
   "execution_count": 7,
   "id": "22b947de",
   "metadata": {},
   "outputs": [
    {
     "name": "stdout",
     "output_type": "stream",
     "text": [
      "1 4\n",
      "2 4\n",
      "3 4\n",
      "4 4\n",
      "12 4\n",
      "27 4\n",
      "31 4\n",
      "57 4\n",
      "83 4\n",
      "88 4\n",
      "97 4\n",
      "104 4\n",
      "135 4\n",
      "144 4\n",
      "157 4\n",
      "174 4\n",
      "211 4\n",
      "223 4\n",
      "243 4\n",
      "253 4\n",
      "272 4\n",
      "281 4\n",
      "290 4\n",
      "302 4\n",
      "303 4\n",
      "304 4\n",
      "322 4\n",
      "349 4\n",
      "385 4\n",
      "445 4\n",
      "459 4\n",
      "469 4\n",
      "480 4\n",
      "482 4\n",
      "485 4\n",
      "501 4\n",
      "504 4\n",
      "515 4\n",
      "530 4\n",
      "547 4\n",
      "578 4\n",
      "588 4\n",
      "594 4\n",
      "609 4\n",
      "642 4\n",
      "646 4\n",
      "666 4\n",
      "671 4\n",
      "672 4\n",
      "673 4\n",
      "704 4\n",
      "705 4\n",
      "739 4\n",
      "751 4\n",
      "769 4\n",
      "802 4\n",
      "805 4\n",
      "822 4\n",
      "824 4\n",
      "906 4\n",
      "913 4\n",
      "925 4\n",
      "932 4\n",
      "935 4\n",
      "936 4\n",
      "937 4\n",
      "1 6\n",
      "2 6\n",
      "11 6\n",
      "87 6\n",
      "134 6\n",
      "143 6\n",
      "302 6\n",
      "348 6\n",
      "458 6\n",
      "468 6\n",
      "503 6\n",
      "608 6\n",
      "671 6\n",
      "738 6\n",
      "801 6\n",
      "804 6\n",
      "823 6\n",
      "924 6\n",
      "935 6\n",
      "133 8\n",
      "347 8\n",
      "467 8\n",
      "670 8\n",
      "466 10\n",
      "465 12\n"
     ]
    }
   ],
   "source": [
    "for pal_len in range(4,13, 2):\n",
    "    for i in range(len(DNA)):\n",
    "        if i+pal_len<len(DNA):\n",
    "            pass\n",
    "        else:\n",
    "            motif = DNA[i:i+pal_len]\n",
    "            rev_motif = motif.replace('A', 't').replace('T', 'a').replace('C', 'g').replace('G', 'c').upper()\n",
    "            if motif[int(len(motif)/2):]==rev_motif[:int(len(motif)/2)][::-1] and motif[0:int(len(motif)/2)]==rev_motif[int(len(motif)/2):][::-1]:\n",
    "                print(i+1, pal_len)"
   ]
  },
  {
   "cell_type": "code",
   "execution_count": null,
   "id": "44557e72",
   "metadata": {},
   "outputs": [],
   "source": []
  }
 ],
 "metadata": {
  "kernelspec": {
   "display_name": "Python 3 (ipykernel)",
   "language": "python",
   "name": "python3"
  },
  "language_info": {
   "codemirror_mode": {
    "name": "ipython",
    "version": 3
   },
   "file_extension": ".py",
   "mimetype": "text/x-python",
   "name": "python",
   "nbconvert_exporter": "python",
   "pygments_lexer": "ipython3",
   "version": "3.8.9"
  }
 },
 "nbformat": 4,
 "nbformat_minor": 5
}

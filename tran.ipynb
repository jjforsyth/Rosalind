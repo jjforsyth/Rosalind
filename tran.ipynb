{
 "cells": [
  {
   "cell_type": "markdown",
   "id": "1c50ef04-3178-4407-9ccb-e3ff27ca02e4",
   "metadata": {},
   "source": [
    "Given: Two DNA strings s1 and s2 of equal length (at most 1 kbp).\n",
    "\n",
    "Return: The transition/transversion ratio R(s1,s2).\n",
    "\n",
    "See more info here: https://rosalind.info/problems/tran/"
   ]
  },
  {
   "cell_type": "code",
   "execution_count": 1,
   "id": "88cc7fba-a213-4c1b-a2e9-078d64f2b89d",
   "metadata": {},
   "outputs": [
    {
     "data": {
      "text/plain": [
       "['>Rosalind_1864',\n",
       " 'GACTGACTCCTCGTTATGCGCCGCGGTCTCCTCACAATACGAAGGCGACGTTCGGGCATC',\n",
       " 'GGCTCGTGCGACGCCGCTCTATTGCGCGTGGTCTGCTCCAACGCGAGGAGGCTTCACAGC',\n",
       " 'AAGTCTATCTGACCGTAAAGAGAGAGTACAAACTTCAAGAGGTGTTTGTCTGTGGCCCAC',\n",
       " 'GGAGACGCACAACGCCTTCACAGGTCTGGAGACGCGACGTCCTTCCCGTCCCGTCCGTAC',\n",
       " 'TCCAGAAGTAATGCAAGCCGACGAGTACACCAGGGCGCGCATTCTGCTCAATCGTCAAGG',\n",
       " 'TGTTCACGATTAGCACACAAGCACGCCGTACGAGCGCATAATCCTGCGCCGCAACACTGG',\n",
       " 'CGGTTATCACATTGGGCGAGCAGGCGTAACTGTAACGAAGATTGTTCGGGTCACTTCGAG',\n",
       " 'TGTTTTTGACGCAACGTGGACTGATATGGAGGGCTAAACGCTGCTATTTAAATCTTTCCA',\n",
       " 'CCCTAAGTCCTCCTGTCTAACGTTGTCACGCTATGTCGCACAGGTGTATTCCATCGAATT',\n",
       " 'GTATTTCGCCATAGGGGATGAAAACAACAACTCCTCCGGTAAGGTTGTATTTGTTCCCAA',\n",
       " 'ACATTTATGAATAGAGCAAAAACTGGGACCTTCCTCCGGTATGCGAAAGAAATTTACGCA',\n",
       " 'ATTCACGTCCACGACGGATAACCGAGGATTTAACATTCAAGCAAGTTGAGCTCGGCGTAT',\n",
       " 'CAAGAACTACCTCTGACACGAAACTGATGCTAACCTGCGAGACCGCCCCAGATGCTTAGT',\n",
       " 'CTCACCTAGTCACTGGGGGGTAATCGTAGTACCACCGGTTAGTACCGGCAAGAAATCGAC',\n",
       " 'ATCGTAAGGGGGTCGCTTCACTGTACCAGGCCGCCGGCTAGTCAGGATACGAGCCGTGCC',\n",
       " 'CCACGGGGGTACTTGGAACCGCATAGCCTCCTGTGCGTGTGGGGCGGCTACCAGGCACGA',\n",
       " 'TGGGGCTCAGTGGG',\n",
       " '>Rosalind_4987',\n",
       " 'GACTGACCTATCATGATGCACGTCCGTTTTCTCATAGCCCGGTAGCGACGTCTAGACATC',\n",
       " 'GACTCATGCGACACCACTTTGTCAAGCGTGAGCCGCTACGATGGGGGGAGGCTTCGCGAC',\n",
       " 'GAGTTGAATTGACTATAAAGGGAGAATCCAATCTGCGAGAGGTGTTTCCCGGTGGCCGGT',\n",
       " 'GGGATCTAACCACACCCTCACTCGTTTGGGGACTCGGCGTCCTTCCCGCTTCGTCCGTAT',\n",
       " 'TCCTGAAATCGTGTAAGCCGGCGGATACACCGGGACAATCATTCTGTTCAAGCGCCAAAG',\n",
       " 'TTTTCACGGCTAGCACACGAGCTCGCCATATGAGTGCATAGTCCAGCACTAAAACGATGG',\n",
       " 'CGGATATCAGATAAGGTGAGGACGCGTGACTATAACGAAGACCACTCGGTTTACTCAGAA',\n",
       " 'TATTCCTGAAGCAGCGTGGACTGATTTGAGTGATGAAAGGCCACTATCTAGGTTTTTCTA',\n",
       " 'CACTCACGCGTCCTGTCTAATGTTGTCATACTATGTCGCACGGGTCTGTTTTAGTATACT',\n",
       " 'GTATCGCGCGGTAGGTGATGAAAGTAACCACTCCGCTGATAAGGTGGTACTCGTCCCGGA',\n",
       " 'GCATCTATGAATCGAGCATAAACTGAGATCTTCTTACGGTATATTAGAGACGTTTACGCT',\n",
       " 'AGCCACCTCTACTGTTTGTACCCGGAGATTTAGGACTTAGGGGAACTGGACTCTGTGCGC',\n",
       " 'AAAGTACCACCTTCAACACGAAAATAATGGTGATCCACGAGACTGCCTCAGGCGGCTAAT',\n",
       " 'CTCATCTAGGCACCTGAGTGTGGTCATAGCACCGTGGCGTAGCACCGGCAAGAAGTCGAC',\n",
       " 'ATCGCAAGGGGGCCCTCTCAGTGCGCCAAGCCACTGGCAATTCATGATACGAGATATACC',\n",
       " 'CCACAGGAGTGCTTGTAACCGCGAAGCCCCCTATGCGTGTGGGGCGGTTACCAAGGAAGA',\n",
       " 'CAGGACACAGTCGG']"
      ]
     },
     "execution_count": 1,
     "metadata": {},
     "output_type": "execute_result"
    }
   ],
   "source": [
    "# Opens file and reads it\n",
    "with open('./Text_Files/rosalind_tran.txt', 'r') as f:\n",
    "    lines = f.readlines()\n",
    "    for i in range(len(lines)):\n",
    "        lines[i]=lines[i].replace('\\n', '')\n",
    "\n",
    "lines"
   ]
  },
  {
   "cell_type": "code",
   "execution_count": 2,
   "id": "0cc4aa91-80ee-43ad-95ec-4628b4820631",
   "metadata": {
    "jupyter": {
     "source_hidden": true
    }
   },
   "outputs": [
    {
     "data": {
      "text/plain": [
       "['GACTGACTCCTCGTTATGCGCCGCGGTCTCCTCACAATACGAAGGCGACGTTCGGGCATCGGCTCGTGCGACGCCGCTCTATTGCGCGTGGTCTGCTCCAACGCGAGGAGGCTTCACAGCAAGTCTATCTGACCGTAAAGAGAGAGTACAAACTTCAAGAGGTGTTTGTCTGTGGCCCACGGAGACGCACAACGCCTTCACAGGTCTGGAGACGCGACGTCCTTCCCGTCCCGTCCGTACTCCAGAAGTAATGCAAGCCGACGAGTACACCAGGGCGCGCATTCTGCTCAATCGTCAAGGTGTTCACGATTAGCACACAAGCACGCCGTACGAGCGCATAATCCTGCGCCGCAACACTGGCGGTTATCACATTGGGCGAGCAGGCGTAACTGTAACGAAGATTGTTCGGGTCACTTCGAGTGTTTTTGACGCAACGTGGACTGATATGGAGGGCTAAACGCTGCTATTTAAATCTTTCCACCCTAAGTCCTCCTGTCTAACGTTGTCACGCTATGTCGCACAGGTGTATTCCATCGAATTGTATTTCGCCATAGGGGATGAAAACAACAACTCCTCCGGTAAGGTTGTATTTGTTCCCAAACATTTATGAATAGAGCAAAAACTGGGACCTTCCTCCGGTATGCGAAAGAAATTTACGCAATTCACGTCCACGACGGATAACCGAGGATTTAACATTCAAGCAAGTTGAGCTCGGCGTATCAAGAACTACCTCTGACACGAAACTGATGCTAACCTGCGAGACCGCCCCAGATGCTTAGTCTCACCTAGTCACTGGGGGGTAATCGTAGTACCACCGGTTAGTACCGGCAAGAAATCGACATCGTAAGGGGGTCGCTTCACTGTACCAGGCCGCCGGCTAGTCAGGATACGAGCCGTGCCCCACGGGGGTACTTGGAACCGCATAGCCTCCTGTGCGTGTGGGGCGGCTACCAGGCACGATGGGGCTCAGTGGG',\n",
       " 'GACTGACCTATCATGATGCACGTCCGTTTTCTCATAGCCCGGTAGCGACGTCTAGACATCGACTCATGCGACACCACTTTGTCAAGCGTGAGCCGCTACGATGGGGGGAGGCTTCGCGACGAGTTGAATTGACTATAAAGGGAGAATCCAATCTGCGAGAGGTGTTTCCCGGTGGCCGGTGGGATCTAACCACACCCTCACTCGTTTGGGGACTCGGCGTCCTTCCCGCTTCGTCCGTATTCCTGAAATCGTGTAAGCCGGCGGATACACCGGGACAATCATTCTGTTCAAGCGCCAAAGTTTTCACGGCTAGCACACGAGCTCGCCATATGAGTGCATAGTCCAGCACTAAAACGATGGCGGATATCAGATAAGGTGAGGACGCGTGACTATAACGAAGACCACTCGGTTTACTCAGAATATTCCTGAAGCAGCGTGGACTGATTTGAGTGATGAAAGGCCACTATCTAGGTTTTTCTACACTCACGCGTCCTGTCTAATGTTGTCATACTATGTCGCACGGGTCTGTTTTAGTATACTGTATCGCGCGGTAGGTGATGAAAGTAACCACTCCGCTGATAAGGTGGTACTCGTCCCGGAGCATCTATGAATCGAGCATAAACTGAGATCTTCTTACGGTATATTAGAGACGTTTACGCTAGCCACCTCTACTGTTTGTACCCGGAGATTTAGGACTTAGGGGAACTGGACTCTGTGCGCAAAGTACCACCTTCAACACGAAAATAATGGTGATCCACGAGACTGCCTCAGGCGGCTAATCTCATCTAGGCACCTGAGTGTGGTCATAGCACCGTGGCGTAGCACCGGCAAGAAGTCGACATCGCAAGGGGGCCCTCTCAGTGCGCCAAGCCACTGGCAATTCATGATACGAGATATACCCCACAGGAGTGCTTGTAACCGCGAAGCCCCCTATGCGTGTGGGGCGGTTACCAAGGAAGACAGGACACAGTCGG']"
      ]
     },
     "execution_count": 2,
     "metadata": {},
     "output_type": "execute_result"
    }
   ],
   "source": [
    "# Combines substrings into strings (formatting from rosalind download) and adds them to a list of fasta sequences\n",
    "dna_strings=[]\n",
    "num=0\n",
    "full_dna=\"\"\n",
    "for l in range(len(lines)):\n",
    "    if lines[l].startswith('>'):\n",
    "        pass\n",
    "    elif l == len(lines)-1:\n",
    "        full_dna=full_dna+lines[l]\n",
    "        num+=1\n",
    "        dna_strings.append(full_dna)\n",
    "        break\n",
    "    elif lines[l+1].startswith('>'):\n",
    "        full_dna=full_dna+lines[l]\n",
    "        num+=1\n",
    "        dna_strings.append(full_dna)\n",
    "        full_dna=\"\"\n",
    "    else:\n",
    "        if full_dna==\"\":\n",
    "            full_dna=lines[l]\n",
    "        else:\n",
    "            full_dna=full_dna+lines[l]\n",
    "\n",
    "dna_strings"
   ]
  },
  {
   "cell_type": "code",
   "execution_count": 3,
   "id": "025f047c-c65b-403c-9d3f-567c30f09d12",
   "metadata": {},
   "outputs": [],
   "source": [
    "def tran(s1, s2):\n",
    "    ts = 0\n",
    "    tv = 0\n",
    "\n",
    "    for n1, n2 in zip(s1,s2):\n",
    "        if n1==n2: #Passes if unchanged\n",
    "            pass\n",
    "        elif n1 == 'A':\n",
    "            if n2 == 'G': ts += 1 #Adds if it's a transition (this could be made into a dictionary of all transitions as an alternative)\n",
    "            else: tv += 1 #Adds 1 to transversion if it's not a transition\n",
    "        elif n1 == 'G':\n",
    "            if n2 == 'A': ts += 1\n",
    "            else: tv += 1\n",
    "        elif n1 == 'C':\n",
    "            if n2 == 'T': ts += 1\n",
    "            else: tv += 1\n",
    "        elif n1 == 'T':\n",
    "            if n2 == 'C': ts += 1\n",
    "            else: tv += 1\n",
    "\n",
    "    return ts/tv"
   ]
  },
  {
   "cell_type": "code",
   "execution_count": 4,
   "id": "4ca70830-90e7-435e-948c-8f5b06e9929b",
   "metadata": {},
   "outputs": [
    {
     "data": {
      "text/plain": [
       "1.9801980198019802"
      ]
     },
     "execution_count": 4,
     "metadata": {},
     "output_type": "execute_result"
    }
   ],
   "source": [
    "tran(dna_strings[0], dna_strings[1])"
   ]
  }
 ],
 "metadata": {
  "kernelspec": {
   "display_name": "Python 3 (ipykernel)",
   "language": "python",
   "name": "python3"
  },
  "language_info": {
   "codemirror_mode": {
    "name": "ipython",
    "version": 3
   },
   "file_extension": ".py",
   "mimetype": "text/x-python",
   "name": "python",
   "nbconvert_exporter": "python",
   "pygments_lexer": "ipython3",
   "version": "3.12.1"
  }
 },
 "nbformat": 4,
 "nbformat_minor": 5
}

{
 "cells": [
  {
   "cell_type": "code",
   "execution_count": 1,
   "id": "107c496a-79e0-4355-8b1a-7cc5d502e157",
   "metadata": {
    "tags": []
   },
   "outputs": [],
   "source": [
    "import pandas as pd"
   ]
  },
  {
   "cell_type": "code",
   "execution_count": 2,
   "id": "cb090568-4db6-4522-b0c1-9e648cd27e8e",
   "metadata": {
    "tags": []
   },
   "outputs": [],
   "source": [
    "# Opens file and reads it\n",
    "with open('./Text_Files/rosalind_iev.txt', 'r') as f:\n",
    "    lines = f.readlines()\n",
    "    for i in range(len(lines)):\n",
    "        lines[i]=lines[i].replace('\\n', '')"
   ]
  },
  {
   "cell_type": "code",
   "execution_count": 3,
   "id": "57cbf35f-8c3b-41ed-9a69-87205631e163",
   "metadata": {
    "tags": []
   },
   "outputs": [
    {
     "data": {
      "text/plain": [
       "'18959 17455 18441 17952 16664 18104'"
      ]
     },
     "execution_count": 3,
     "metadata": {},
     "output_type": "execute_result"
    }
   ],
   "source": [
    "lines[0]"
   ]
  },
  {
   "cell_type": "code",
   "execution_count": 4,
   "id": "c396a217-1c7c-43d7-b368-d5c4a4048ebe",
   "metadata": {},
   "outputs": [
    {
     "data": {
      "text/html": [
       "<div>\n",
       "<style scoped>\n",
       "    .dataframe tbody tr th:only-of-type {\n",
       "        vertical-align: middle;\n",
       "    }\n",
       "\n",
       "    .dataframe tbody tr th {\n",
       "        vertical-align: top;\n",
       "    }\n",
       "\n",
       "    .dataframe thead th {\n",
       "        text-align: right;\n",
       "    }\n",
       "</style>\n",
       "<table border=\"1\" class=\"dataframe\">\n",
       "  <thead>\n",
       "    <tr style=\"text-align: right;\">\n",
       "      <th></th>\n",
       "      <th>Genotype</th>\n",
       "      <th>Num.of.Couples</th>\n",
       "      <th>Percent.of.Dom.Offspring</th>\n",
       "    </tr>\n",
       "  </thead>\n",
       "  <tbody>\n",
       "    <tr>\n",
       "      <th>0</th>\n",
       "      <td>DD</td>\n",
       "      <td>18959</td>\n",
       "      <td>1.00</td>\n",
       "    </tr>\n",
       "    <tr>\n",
       "      <th>1</th>\n",
       "      <td>DH</td>\n",
       "      <td>17455</td>\n",
       "      <td>1.00</td>\n",
       "    </tr>\n",
       "    <tr>\n",
       "      <th>2</th>\n",
       "      <td>DR</td>\n",
       "      <td>18441</td>\n",
       "      <td>1.00</td>\n",
       "    </tr>\n",
       "    <tr>\n",
       "      <th>3</th>\n",
       "      <td>HH</td>\n",
       "      <td>17952</td>\n",
       "      <td>0.75</td>\n",
       "    </tr>\n",
       "    <tr>\n",
       "      <th>4</th>\n",
       "      <td>HR</td>\n",
       "      <td>16664</td>\n",
       "      <td>0.50</td>\n",
       "    </tr>\n",
       "    <tr>\n",
       "      <th>5</th>\n",
       "      <td>RR</td>\n",
       "      <td>18104</td>\n",
       "      <td>0.00</td>\n",
       "    </tr>\n",
       "  </tbody>\n",
       "</table>\n",
       "</div>"
      ],
      "text/plain": [
       "  Genotype Num.of.Couples  Percent.of.Dom.Offspring\n",
       "0       DD          18959                      1.00\n",
       "1       DH          17455                      1.00\n",
       "2       DR          18441                      1.00\n",
       "3       HH          17952                      0.75\n",
       "4       HR          16664                      0.50\n",
       "5       RR          18104                      0.00"
      ]
     },
     "execution_count": 4,
     "metadata": {},
     "output_type": "execute_result"
    }
   ],
   "source": [
    "df=pd.DataFrame({'Genotype':['DD', 'DH', 'DR', 'HH', 'HR', 'RR'],\n",
    "                 'Num.of.Couples':lines[0].split(),\n",
    "                 'Percent.of.Dom.Offspring':[1, 1, 1, .75, .5, 0]})\n",
    "df"
   ]
  },
  {
   "cell_type": "code",
   "execution_count": 5,
   "id": "28ffedea-d28a-4d66-8c90-2b94bf91f3b5",
   "metadata": {
    "tags": []
   },
   "outputs": [],
   "source": [
    "def dom_fun(noc, pod):\n",
    "    ans = noc * pod * 2\n",
    "    return ans"
   ]
  },
  {
   "cell_type": "code",
   "execution_count": 6,
   "id": "19654e97-2153-4c2b-aad0-925f3ca2ae8e",
   "metadata": {
    "tags": []
   },
   "outputs": [],
   "source": [
    "df['Num.of.offspring.dom']= df.apply(lambda row: dom_fun(int(row['Num.of.Couples']), row['Percent.of.Dom.Offspring']), axis=1)"
   ]
  },
  {
   "cell_type": "code",
   "execution_count": 7,
   "id": "e5fca02a-66e7-4826-bb73-7e3c1d27702f",
   "metadata": {
    "tags": []
   },
   "outputs": [
    {
     "data": {
      "text/html": [
       "<div>\n",
       "<style scoped>\n",
       "    .dataframe tbody tr th:only-of-type {\n",
       "        vertical-align: middle;\n",
       "    }\n",
       "\n",
       "    .dataframe tbody tr th {\n",
       "        vertical-align: top;\n",
       "    }\n",
       "\n",
       "    .dataframe thead th {\n",
       "        text-align: right;\n",
       "    }\n",
       "</style>\n",
       "<table border=\"1\" class=\"dataframe\">\n",
       "  <thead>\n",
       "    <tr style=\"text-align: right;\">\n",
       "      <th></th>\n",
       "      <th>Genotype</th>\n",
       "      <th>Num.of.Couples</th>\n",
       "      <th>Percent.of.Dom.Offspring</th>\n",
       "      <th>Num.of.offspring.dom</th>\n",
       "    </tr>\n",
       "  </thead>\n",
       "  <tbody>\n",
       "    <tr>\n",
       "      <th>0</th>\n",
       "      <td>DD</td>\n",
       "      <td>18959</td>\n",
       "      <td>1.00</td>\n",
       "      <td>37918.0</td>\n",
       "    </tr>\n",
       "    <tr>\n",
       "      <th>1</th>\n",
       "      <td>DH</td>\n",
       "      <td>17455</td>\n",
       "      <td>1.00</td>\n",
       "      <td>34910.0</td>\n",
       "    </tr>\n",
       "    <tr>\n",
       "      <th>2</th>\n",
       "      <td>DR</td>\n",
       "      <td>18441</td>\n",
       "      <td>1.00</td>\n",
       "      <td>36882.0</td>\n",
       "    </tr>\n",
       "    <tr>\n",
       "      <th>3</th>\n",
       "      <td>HH</td>\n",
       "      <td>17952</td>\n",
       "      <td>0.75</td>\n",
       "      <td>26928.0</td>\n",
       "    </tr>\n",
       "    <tr>\n",
       "      <th>4</th>\n",
       "      <td>HR</td>\n",
       "      <td>16664</td>\n",
       "      <td>0.50</td>\n",
       "      <td>16664.0</td>\n",
       "    </tr>\n",
       "    <tr>\n",
       "      <th>5</th>\n",
       "      <td>RR</td>\n",
       "      <td>18104</td>\n",
       "      <td>0.00</td>\n",
       "      <td>0.0</td>\n",
       "    </tr>\n",
       "  </tbody>\n",
       "</table>\n",
       "</div>"
      ],
      "text/plain": [
       "  Genotype Num.of.Couples  Percent.of.Dom.Offspring  Num.of.offspring.dom\n",
       "0       DD          18959                      1.00               37918.0\n",
       "1       DH          17455                      1.00               34910.0\n",
       "2       DR          18441                      1.00               36882.0\n",
       "3       HH          17952                      0.75               26928.0\n",
       "4       HR          16664                      0.50               16664.0\n",
       "5       RR          18104                      0.00                   0.0"
      ]
     },
     "execution_count": 7,
     "metadata": {},
     "output_type": "execute_result"
    }
   ],
   "source": [
    "df"
   ]
  },
  {
   "cell_type": "code",
   "execution_count": 8,
   "id": "f9473a77-8df2-4ec5-a1b4-58d17c3e5c59",
   "metadata": {
    "tags": []
   },
   "outputs": [
    {
     "data": {
      "text/plain": [
       "153302.0"
      ]
     },
     "execution_count": 8,
     "metadata": {},
     "output_type": "execute_result"
    }
   ],
   "source": [
    "df['Num.of.offspring.dom'].sum()"
   ]
  }
 ],
 "metadata": {
  "kernelspec": {
   "display_name": "Python 3 (ipykernel)",
   "language": "python",
   "name": "python3"
  },
  "language_info": {
   "codemirror_mode": {
    "name": "ipython",
    "version": 3
   },
   "file_extension": ".py",
   "mimetype": "text/x-python",
   "name": "python",
   "nbconvert_exporter": "python",
   "pygments_lexer": "ipython3",
   "version": "3.8.9"
  }
 },
 "nbformat": 4,
 "nbformat_minor": 5
}

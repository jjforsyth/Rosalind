{
 "cells": [
  {
   "cell_type": "markdown",
   "id": "64cf44a2",
   "metadata": {},
   "source": [
    "Takes a DNA sequence and finds all open reading frames\n",
    "\n",
    "See problem here: https://rosalind.info/problems/splc/"
   ]
  },
  {
   "cell_type": "markdown",
   "id": "942371f5",
   "metadata": {},
   "source": [
    "<b>I decided not to directly follow the Rosalind question, which requires a stop codon. This would potentially leave samples off that don't finish on the DNA string, which isn't something I find actually useful. Instead, I marked the last samples with *end and removed these samples to answer the question prompt correctly<b>"
   ]
  },
  {
   "cell_type": "code",
   "execution_count": 1,
   "id": "48885d02",
   "metadata": {},
   "outputs": [],
   "source": [
    "import re\n",
    "from Bio.Seq import Seq"
   ]
  },
  {
   "cell_type": "code",
   "execution_count": 2,
   "id": "1f66c49f",
   "metadata": {},
   "outputs": [],
   "source": [
    "with open('./Text_Files/rosalind_orf.txt', 'r') as f:\n",
    "    lines = f.readlines()\n",
    "    for i in range(len(lines)):\n",
    "        lines[i]=lines[i].replace('\\n', '')\n",
    "        \n",
    "dna_strings=[]\n",
    "num=0\n",
    "full_dna=\"\"\n",
    "for l in range(len(lines)):\n",
    "    if lines[l].startswith('>'):\n",
    "        pass\n",
    "    elif l == len(lines)-1:\n",
    "        full_dna=full_dna+lines[l]\n",
    "        num+=1\n",
    "        dna_strings.append(full_dna)\n",
    "        break\n",
    "    elif lines[l+1].startswith('>'):\n",
    "        full_dna=full_dna+lines[l]\n",
    "        num+=1\n",
    "        dna_strings.append(full_dna)\n",
    "        full_dna=\"\"\n",
    "    else:\n",
    "        if full_dna==\"\":\n",
    "            full_dna=lines[l]\n",
    "        else:\n",
    "            full_dna=full_dna+lines[l]"
   ]
  },
  {
   "cell_type": "code",
   "execution_count": 3,
   "id": "f805d4a7",
   "metadata": {},
   "outputs": [
    {
     "data": {
      "text/plain": [
       "'CTACACTCCTATAAGCACTACAGACAGTTAGTTGTTGAGATGTAAAGGTATACCAGCAGTTATAAGTCTCCAAGGTAAACGCTATGATATTCTCTCTACAGAGAGTGGAAGCAAGCCCGGTCCCGAGGTAAACCAGCCGTCAGGTAGAGGTCTGCAATCTCCGAGCGTCATCCCCGTCGCCACGATCCGGGGATTAGCCGTTATGCTCATATTCGAAGAAAGTCAGATGGACACCCAGGCAGGTCATATGTCGTGCGTGAAGCAATTGTTGCGTTGAGTTTGCTGATTGTATCGCGCCAAGCAGATACTGGTGACCTGTCTCGCACAGCCTCCGGGCAATCTCGATCCGCAGCTCATGGCCTTTTCCCCTGGCATAAGCAGCACACGACCGGGTTCGCCAGCGCTCCAGATGATGCCCAGAGTGCGAGGGTTGGCTTTCTCGCAGGGCTACATGTCCTGTAATGGTGCAGTCTACCGATCCCTCATAGCTATGAGGGATCGGTAGACTGCACCATGGTAACGGGTGCCGCGTCTGAGGGCTCTAACACATGCTATTTCGCTCCTTGCGTAACCAGAATCATGTCAGTCCCATTCAATATATACGGGGATCCTTCGCGGACAGAGCTCCGAACATAATCCGAGATAGTATATGCCGTAAGTCAGGACATCCACCATCCCTTAGATTTTGGGTACGAGTCTGTAGTCTTCTTTCGCATCCCACCGAATATCCGATTGAGTCAGAGCCGCGTACGTGGTCTCGCTGTGGGTCTCTGATAAATCTTGTGTCGCGGACTAGCTTTCATAGTGAAGTTCTCCGGTTCGTCACCAAAAAACGCTTCGTATAGCCACGAGTATGGGGAGATTTTGTTCATCAGACATTCCCCGATGGGTTGATCGGGCTCGGAGGGGTCAGGCCTGCGATCGTGACTGTTAAATAGGAAATATATAGGCTTAGTTCTAACGTGCCTCTCCCCTT'"
      ]
     },
     "execution_count": 3,
     "metadata": {},
     "output_type": "execute_result"
    }
   ],
   "source": [
    "dna_strings[0]"
   ]
  },
  {
   "cell_type": "code",
   "execution_count": 4,
   "id": "52e4a493",
   "metadata": {},
   "outputs": [],
   "source": [
    "revc = Seq(dna_strings[0]).reverse_complement()"
   ]
  },
  {
   "cell_type": "code",
   "execution_count": 5,
   "id": "bb66ffe3",
   "metadata": {},
   "outputs": [],
   "source": [
    "result = [m.start() for m in re.finditer('ATG', dna_strings[0])]"
   ]
  },
  {
   "cell_type": "code",
   "execution_count": 6,
   "id": "89344118",
   "metadata": {},
   "outputs": [],
   "source": [
    "result_revc = [m.start() for m in re.finditer('ATG', str(revc))]"
   ]
  },
  {
   "cell_type": "code",
   "execution_count": 7,
   "id": "7cec8265",
   "metadata": {},
   "outputs": [
    {
     "name": "stdout",
     "output_type": "stream",
     "text": [
      "+Strand Result: [39, 83, 202, 226, 247, 355, 409, 412, 451, 461, 490, 513, 548, 579, 649, 853, 885]\n",
      "-Strand Result: [97, 104, 173, 260, 301, 308, 342, 384, 395, 426, 461, 490, 523, 601, 619, 729, 766, 805]\n"
     ]
    }
   ],
   "source": [
    "print(\"+Strand Result:\", result)\n",
    "print(\"-Strand Result:\", result_revc)"
   ]
  },
  {
   "cell_type": "code",
   "execution_count": 8,
   "id": "197bc925",
   "metadata": {},
   "outputs": [
    {
     "name": "stderr",
     "output_type": "stream",
     "text": [
      "/efs/jforsyth-rstudio/.local/lib/python3.8/site-packages/Bio/Seq.py:2880: BiopythonWarning: Partial codon, len(sequence) not a multiple of three. Explicitly trim the sequence or add trailing N before translation. This may become an error in future.\n",
      "  warnings.warn(\n"
     ]
    }
   ],
   "source": [
    "orfs = []\n",
    "rev_orfs = []\n",
    "for start_codon in result:\n",
    "    orf = dna_strings[0][start_codon:]\n",
    "    orf = orf.replace(\"T\", \"U\")\n",
    "    translated_orf = Seq.translate(orf, to_stop=True)\n",
    "    if start_codon==result[len(result)-1]:\n",
    "        orfs.append(str(str(translated_orf)+\"*end\"))\n",
    "    else:\n",
    "        orfs.append(str(translated_orf))\n",
    "    \n",
    "for start_codon in result_revc:\n",
    "    orf = revc[start_codon:]\n",
    "    orf = orf.replace(\"T\", \"U\")\n",
    "    translated_orf = Seq.translate(orf, to_stop=True)\n",
    "    if start_codon==result_revc[len(result_revc)-1]:\n",
    "        rev_orfs.append(str(str(translated_orf)+\"*end\"))\n",
    "    else:\n",
    "        rev_orfs.append(str(translated_orf))"
   ]
  },
  {
   "cell_type": "code",
   "execution_count": 9,
   "id": "95407b44",
   "metadata": {},
   "outputs": [
    {
     "name": "stdout",
     "output_type": "stream",
     "text": [
      "M\n",
      "MIFSLQRVEASPVPR\n",
      "MLIFEESQMDTQAGHMSCVKQLLR\n",
      "MDTQAGHMSCVKQLLR\n",
      "MSCVKQLLR\n",
      "MAFSPGISSTRPGSPALQMMPRVRGLAFSQGYMSCNGAVYRSLIAMRDR\n",
      "MMPRVRGLAFSQGYMSCNGAVYRSLIAMRDR\n",
      "MPRVRGLAFSQGYMSCNGAVYRSLIAMRDR\n",
      "MSCNGAVYRSLIAMRDR\n",
      "MVQSTDPS\n",
      "MRDR\n",
      "MVTGAASEGSNTCYFAPCVTRIMSVPFNIYGDPSRTELRT\n",
      "MLFRSLRNQNHVSPIQYIRGSFADRAPNIIRDSICRKSGHPPSLRFWVRVCSLLSHPTEYPIESEPRTWSRCGSLINLVSRTSFHSEVLRFVTKKRFV\n",
      "MSVPFNIYGDPSRTELRT\n",
      "MP\n",
      "MGRFCSSDIPRWVDRARRGQACDRDC\n",
      "MG*end\n",
      " \n",
      "MSDEQNLPILVAIRSVFW\n",
      "MNKISPYSWLYEAFFGDEPENFTMKASPRHKIYQRPTARPRTRL\n",
      "MKASPRHKIYQRPTARPRTRL\n",
      "MRKKTTDSYPKSKGWWMS\n",
      "MVDVLTYGIYYLGLCSELCPRRIPVYIEWD\n",
      "MS\n",
      "MFGALSAKDPRIY\n",
      "MGLT\n",
      "MILVTQGAK\n",
      "MC\n",
      "MVQSTDPS\n",
      "MRDR\n",
      "M\n",
      "MPGEKAMSCGSRLPGGCARQVTSICLARYNQQTQRNNCFTHDI\n",
      "MSCGSRLPGGCARQVTSICLARYNQQTQRNNCFTHDI\n",
      "MTCLGVHLTFFEYEHNG\n",
      "MSITANPRIVATGMTLGDCRPLPDGWFTSGPGLLPLSVERIS\n",
      "MTLGDCRPLPDGWFTSGPGLLPLSVERIS*end\n"
     ]
    }
   ],
   "source": [
    "for o in orfs:\n",
    "    print(o)\n",
    "print(\" \")\n",
    "for o in rev_orfs:\n",
    "    print(o)"
   ]
  },
  {
   "cell_type": "code",
   "execution_count": 21,
   "id": "182a1eec",
   "metadata": {},
   "outputs": [],
   "source": [
    "test=dna_strings[0][885:]\n",
    "test2= str(revc)[805:]"
   ]
  },
  {
   "cell_type": "code",
   "execution_count": 22,
   "id": "1162c8b0",
   "metadata": {},
   "outputs": [
    {
     "data": {
      "text/plain": [
       "'MTLGDCRPLPDGWFTSGPGLLPLSVERIS*RLPWRLITAGIPLHLNN*LSVVLIGV*'"
      ]
     },
     "execution_count": 22,
     "metadata": {},
     "output_type": "execute_result"
    }
   ],
   "source": [
    "Seq.translate(test2)"
   ]
  },
  {
   "cell_type": "code",
   "execution_count": 23,
   "id": "1d79dba1",
   "metadata": {},
   "outputs": [],
   "source": [
    "a=orfs\n",
    "b=rev_orfs"
   ]
  },
  {
   "cell_type": "code",
   "execution_count": 24,
   "id": "e056073f",
   "metadata": {},
   "outputs": [
    {
     "name": "stdout",
     "output_type": "stream",
     "text": [
      "MSDEQNLPILVAIRSVFW\n",
      "MFGALSAKDPRIY\n",
      "MRKKTTDSYPKSKGWWMS\n",
      "MP\n",
      "MC\n",
      "MKASPRHKIYQRPTARPRTRL\n",
      "MLFRSLRNQNHVSPIQYIRGSFADRAPNIIRDSICRKSGHPPSLRFWVRVCSLLSHPTEYPIESEPRTWSRCGSLINLVSRTSFHSEVLRFVTKKRFV\n",
      "M\n",
      "MRDR\n",
      "MPGEKAMSCGSRLPGGCARQVTSICLARYNQQTQRNNCFTHDI\n",
      "MSITANPRIVATGMTLGDCRPLPDGWFTSGPGLLPLSVERIS\n",
      "MSCGSRLPGGCARQVTSICLARYNQQTQRNNCFTHDI\n",
      "MTLGDCRPLPDGWFTSGPGLLPLSVERIS*end\n",
      "MSCNGAVYRSLIAMRDR\n",
      "MG*end\n",
      "MVTGAASEGSNTCYFAPCVTRIMSVPFNIYGDPSRTELRT\n",
      "MMPRVRGLAFSQGYMSCNGAVYRSLIAMRDR\n",
      "MS\n",
      "MILVTQGAK\n",
      "MVQSTDPS\n",
      "MPRVRGLAFSQGYMSCNGAVYRSLIAMRDR\n",
      "MDTQAGHMSCVKQLLR\n",
      "MSCVKQLLR\n",
      "MAFSPGISSTRPGSPALQMMPRVRGLAFSQGYMSCNGAVYRSLIAMRDR\n",
      "MGRFCSSDIPRWVDRARRGQACDRDC\n",
      "MIFSLQRVEASPVPR\n",
      "MLIFEESQMDTQAGHMSCVKQLLR\n",
      "MSVPFNIYGDPSRTELRT\n",
      "MGLT\n",
      "MVDVLTYGIYYLGLCSELCPRRIPVYIEWD\n",
      "MNKISPYSWLYEAFFGDEPENFTMKASPRHKIYQRPTARPRTRL\n",
      "MTCLGVHLTFFEYEHNG\n"
     ]
    }
   ],
   "source": [
    "for o in set(a+b):\n",
    "    print(o)"
   ]
  }
 ],
 "metadata": {
  "kernelspec": {
   "display_name": "Python 3 (ipykernel)",
   "language": "python",
   "name": "python3"
  },
  "language_info": {
   "codemirror_mode": {
    "name": "ipython",
    "version": 3
   },
   "file_extension": ".py",
   "mimetype": "text/x-python",
   "name": "python",
   "nbconvert_exporter": "python",
   "pygments_lexer": "ipython3",
   "version": "3.8.9"
  }
 },
 "nbformat": 4,
 "nbformat_minor": 5
}

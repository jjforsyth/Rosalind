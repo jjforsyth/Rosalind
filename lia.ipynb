{
 "cells": [
  {
   "cell_type": "markdown",
   "id": "cc121769-d4f9-4a09-8ccf-ec89e6389ded",
   "metadata": {},
   "source": [
    "The probability that at least N Aa Bb organisms will belong to the k-th generation of Tom's family tree (don't count the Aa Bb mates at each level). Assume that Mendel's second law holds for the factors.\n",
    "\n",
    "See problem here: https://rosalind.info/problems/lia/"
   ]
  },
  {
   "cell_type": "code",
   "execution_count": null,
   "id": "2a7efe8c-1d50-4041-a14b-924c66437011",
   "metadata": {},
   "outputs": [],
   "source": [
    "from scipy.special import binom"
   ]
  },
  {
   "cell_type": "code",
   "execution_count": 3,
   "id": "1c14ddb2-34e4-4c26-a9d1-8bfb4313e85f",
   "metadata": {
    "tags": []
   },
   "outputs": [],
   "source": [
    "# Opens file and reads it\n",
    "with open('./Text_Files/rosalind_lia.txt', 'r') as f:\n",
    "    lines = f.readlines()\n",
    "    for i in range(len(lines)):\n",
    "        lines[i]=lines[i].replace('\\n', '')"
   ]
  },
  {
   "cell_type": "code",
   "execution_count": 4,
   "id": "a09bc4dd-536a-41b7-8866-f65ad5de3253",
   "metadata": {
    "tags": []
   },
   "outputs": [
    {
     "data": {
      "text/plain": [
       "['7 33']"
      ]
     },
     "execution_count": 4,
     "metadata": {},
     "output_type": "execute_result"
    }
   ],
   "source": [
    "lines"
   ]
  },
  {
   "cell_type": "code",
   "execution_count": 7,
   "id": "6185823e-561c-42a2-a67c-23495f2fe1dd",
   "metadata": {},
   "outputs": [],
   "source": [
    "def lia(k, N):\n",
    "    def p(n, k):\n",
    "        return binom(2**k, n) * 0.25**n * 0.75**(2**k - n)\n",
    "    return 1 - sum(p(n, k) for n in range(N))"
   ]
  },
  {
   "cell_type": "code",
   "execution_count": 8,
   "id": "eefb694d-abe0-4a58-b387-601c3244665e",
   "metadata": {},
   "outputs": [
    {
     "data": {
      "text/plain": [
       "0.453"
      ]
     },
     "execution_count": 8,
     "metadata": {},
     "output_type": "execute_result"
    }
   ],
   "source": [
    "round(lia(7, 33), 3)"
   ]
  }
 ],
 "metadata": {
  "kernelspec": {
   "display_name": "Python 3 (ipykernel)",
   "language": "python",
   "name": "python3"
  },
  "language_info": {
   "codemirror_mode": {
    "name": "ipython",
    "version": 3
   },
   "file_extension": ".py",
   "mimetype": "text/x-python",
   "name": "python",
   "nbconvert_exporter": "python",
   "pygments_lexer": "ipython3",
   "version": "3.9.12"
  }
 },
 "nbformat": 4,
 "nbformat_minor": 5
}

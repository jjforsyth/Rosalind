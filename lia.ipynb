{
 "cells": [
  {
   "cell_type": "markdown",
   "id": "cfeab91e-9484-46eb-8cb4-e77c3d43f794",
   "metadata": {},
   "source": [
    "<h1>Not finished"
   ]
  },
  {
   "cell_type": "code",
   "execution_count": 2,
   "id": "1c14ddb2-34e4-4c26-a9d1-8bfb4313e85f",
   "metadata": {
    "tags": []
   },
   "outputs": [],
   "source": [
    "# Opens file and reads it\n",
    "with open('./Text_Files/rosalind_lia.txt', 'r') as f:\n",
    "    lines = f.readlines()\n",
    "    for i in range(len(lines)):\n",
    "        lines[i]=lines[i].replace('\\n', '')"
   ]
  },
  {
   "cell_type": "code",
   "execution_count": 3,
   "id": "a09bc4dd-536a-41b7-8866-f65ad5de3253",
   "metadata": {
    "jupyter": {
     "source_hidden": true
    },
    "tags": []
   },
   "outputs": [
    {
     "data": {
      "text/plain": [
       "['2 1']"
      ]
     },
     "execution_count": 3,
     "metadata": {},
     "output_type": "execute_result"
    }
   ],
   "source": [
    "lines"
   ]
  },
  {
   "cell_type": "code",
   "execution_count": 8,
   "id": "afd9d061-2269-41d2-acd1-597615f00dba",
   "metadata": {},
   "outputs": [],
   "source": [
    "def lia(n, k):\n",
    "    a, b = 1, .375\n",
    "    for i in range(2, n):\n",
    "        a, b = b, k*a + b\n",
    "    return b"
   ]
  },
  {
   "cell_type": "code",
   "execution_count": 9,
   "id": "50e07555-9be6-4f03-a083-6afebeb781c2",
   "metadata": {},
   "outputs": [
    {
     "data": {
      "text/plain": [
       "0.375"
      ]
     },
     "execution_count": 9,
     "metadata": {},
     "output_type": "execute_result"
    }
   ],
   "source": [
    "lia(2, 1)"
   ]
  },
  {
   "cell_type": "code",
   "execution_count": null,
   "id": "d8db4622-e891-46b9-968b-30911f3ffd7d",
   "metadata": {},
   "outputs": [],
   "source": []
  }
 ],
 "metadata": {
  "kernelspec": {
   "display_name": "Python 3 (ipykernel)",
   "language": "python",
   "name": "python3"
  },
  "language_info": {
   "codemirror_mode": {
    "name": "ipython",
    "version": 3
   },
   "file_extension": ".py",
   "mimetype": "text/x-python",
   "name": "python",
   "nbconvert_exporter": "python",
   "pygments_lexer": "ipython3",
   "version": "3.8.9"
  }
 },
 "nbformat": 4,
 "nbformat_minor": 5
}

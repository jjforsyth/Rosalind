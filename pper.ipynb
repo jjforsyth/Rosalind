{
 "cells": [
  {
   "cell_type": "markdown",
   "id": "aabc658c-b503-4d95-822f-c0770c6752e2",
   "metadata": {},
   "source": [
    "Given: Positive integers n and k such that 100≥n>0 and 10≥k>0.\n",
    "\n",
    "Return: The total number of partial permutations P(n,k), modulo 1,000,000.\n",
    "\n",
    "See more info at: https://rosalind.info/problems/pper/"
   ]
  },
  {
   "cell_type": "code",
   "execution_count": 1,
   "id": "88cc7fba-a213-4c1b-a2e9-078d64f2b89d",
   "metadata": {},
   "outputs": [
    {
     "data": {
      "text/plain": [
       "[83, 8]"
      ]
     },
     "execution_count": 1,
     "metadata": {},
     "output_type": "execute_result"
    }
   ],
   "source": [
    "# Opens file and reads it\n",
    "with open('./Text_Files/rosalind_pper.txt', 'r') as f:\n",
    "    lines = f.readlines()\n",
    "    for i in range(len(lines)):\n",
    "        lines[i]=lines[i].replace('\\n', '')\n",
    "\n",
    "lines = [int(i) for i in lines[0].split()]\n",
    "lines"
   ]
  },
  {
   "cell_type": "code",
   "execution_count": 2,
   "id": "aff9860f-353d-425b-ab9b-41c68ee6417a",
   "metadata": {},
   "outputs": [
    {
     "name": "stdout",
     "output_type": "stream",
     "text": [
      "269120.0\n"
     ]
    }
   ],
   "source": [
    "from math import factorial\n",
    "\n",
    "def pper(n,k):\n",
    "    perm = (factorial(n)/factorial(n-k)) % 1000000\n",
    "    return perm\n",
    "\n",
    "print(pper(lines[0],lines[1]))"
   ]
  }
 ],
 "metadata": {
  "kernelspec": {
   "display_name": "Python 3 (ipykernel)",
   "language": "python",
   "name": "python3"
  },
  "language_info": {
   "codemirror_mode": {
    "name": "ipython",
    "version": 3
   },
   "file_extension": ".py",
   "mimetype": "text/x-python",
   "name": "python",
   "nbconvert_exporter": "python",
   "pygments_lexer": "ipython3",
   "version": "3.12.1"
  }
 },
 "nbformat": 4,
 "nbformat_minor": 5
}

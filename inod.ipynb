{
 "cells": [
  {
   "cell_type": "markdown",
   "id": "3a46c21e-fed4-46b9-951d-b4bdea6d4e87",
   "metadata": {},
   "source": [
    "Given: A positive integer n (3≤n≤10000).\n",
    "\n",
    "Return: The number of internal nodes of any unrooted binary tree having n leaves.\n",
    "\n",
    "See more info here: https://rosalind.info/problems/inod/"
   ]
  },
  {
   "cell_type": "code",
   "execution_count": 1,
   "id": "75df793a-0ec8-4a2e-8dcd-183b1080bab9",
   "metadata": {},
   "outputs": [
    {
     "data": {
      "text/plain": [
       "['5241']"
      ]
     },
     "execution_count": 1,
     "metadata": {},
     "output_type": "execute_result"
    }
   ],
   "source": [
    "# Opens file and reads it\n",
    "with open('./Text_Files/rosalind_inod.txt', 'r') as f:\n",
    "    lines = f.readlines()\n",
    "    for i in range(len(lines)):\n",
    "        lines[i]=lines[i].replace('\\n', '')\n",
    "lines"
   ]
  },
  {
   "cell_type": "code",
   "execution_count": 3,
   "id": "9c6a89c7-d0dc-496a-af97-2b8aea9b0da5",
   "metadata": {},
   "outputs": [
    {
     "data": {
      "text/plain": [
       "5239"
      ]
     },
     "execution_count": 3,
     "metadata": {},
     "output_type": "execute_result"
    }
   ],
   "source": [
    "int(lines[0])-2 #k = n -2"
   ]
  }
 ],
 "metadata": {
  "kernelspec": {
   "display_name": "Python 3 (ipykernel)",
   "language": "python",
   "name": "python3"
  },
  "language_info": {
   "codemirror_mode": {
    "name": "ipython",
    "version": 3
   },
   "file_extension": ".py",
   "mimetype": "text/x-python",
   "name": "python",
   "nbconvert_exporter": "python",
   "pygments_lexer": "ipython3",
   "version": "3.12.1"
  }
 },
 "nbformat": 4,
 "nbformat_minor": 5
}

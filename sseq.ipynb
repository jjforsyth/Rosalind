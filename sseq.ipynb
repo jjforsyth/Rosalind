{
 "cells": [
  {
   "cell_type": "markdown",
   "id": "d9175ee5-1d4d-45ce-914e-80abeb8c097d",
   "metadata": {},
   "source": [
    "Given: Two DNA strings s and t (each of length at most 1 kbp) in FASTA format.\n",
    "\n",
    "Return: One collection of indices of s\n",
    "in which the symbols of t appear as a subsequence of s. If multiple solutions exist, you may return any one.\n",
    "\n",
    "See: https://rosalind.info/problems/sseq/"
   ]
  },
  {
   "cell_type": "code",
   "execution_count": 1,
   "id": "1f3e96e9-af01-4160-a496-8c47b43c9732",
   "metadata": {},
   "outputs": [],
   "source": [
    "import re\n",
    "from itertools import combinations"
   ]
  },
  {
   "cell_type": "code",
   "execution_count": 2,
   "id": "df732ba1-15df-460f-a680-d2e7193f7d23",
   "metadata": {},
   "outputs": [],
   "source": [
    "# Opens file and reads it\n",
    "with open('./Text_Files/rosalind_sseq.txt', 'r') as f:\n",
    "    lines = f.readlines()\n",
    "    for i in range(len(lines)):\n",
    "        lines[i]=lines[i].replace('\\n', '')\n",
    "        \n",
    "dna_strings=[]\n",
    "num=0\n",
    "full_dna=\"\"\n",
    "for l in range(len(lines)):\n",
    "    if lines[l].startswith('>'):\n",
    "        pass\n",
    "    elif l == len(lines)-1:\n",
    "        full_dna=full_dna+lines[l]\n",
    "        num+=1\n",
    "        dna_strings.append(full_dna)\n",
    "        break\n",
    "    elif lines[l+1].startswith('>'):\n",
    "        full_dna=full_dna+lines[l]\n",
    "        num+=1\n",
    "        dna_strings.append(full_dna)\n",
    "        full_dna=\"\"\n",
    "    else:\n",
    "        if full_dna==\"\":\n",
    "            full_dna=lines[l]\n",
    "        else:\n",
    "            full_dna=full_dna+lines[l]"
   ]
  },
  {
   "cell_type": "code",
   "execution_count": 3,
   "id": "d52ed2f8-0976-4572-94c5-1135116039c9",
   "metadata": {},
   "outputs": [
    {
     "data": {
      "text/plain": [
       "['AACCACTAATAGCATATGCCGGAAGTCTTGGGAATTCTCGAATTTATCACGGGAAAGCCAGGAGAAAGCAGCTCGTACATCGACGCCGCCACGGGAAAATATTCGCTTATTTGCTGGAGTTGTTGGCCCCAGAACATGCTTCAGGAAGGTGTGTATTGCAGTCTAGTGGGACTAATCTTTCGCTTGGAATTGTCTAACTTCATCCATGAATGAATGCTGAGTGACTTCAGACGCCTAGTCGGTTGCTGAATTGGATTGTCAAGTCGTTCCCATGTGAAGCGGCATTAGTTTGCATCCGTGCCGTACACCGGCGCACGACTATTCCGTCTGGGTGCCTCGTACTTTTTGCGCTTCGAAAATACAGATACTTCGCGATTCCAAACGTAGACTTGTATGCTAAGACTGACAGGAAGCTAGCGCGTGATGTCTCCTTGGGCCGTTCGTGTTAATCCTCTAGGCCCAGACAGGGGCGCTATAAGGCGAGGAGACTTAAGCGGCAATGGGCTAGTCACCTATGAAGTCTGGCATGAATGGTACAGTATATTATCGAAGGAATCTAGTCAAAAACTGACTAGACATATGGAGCGAGTTTTGTTGTTATTACGTAGGCCCTCTGTGATGGCGATATCCTTTCCGTCTAGTGTGGAAGCCCGAATCATTCTTCATAAGGGTTTCCGTCCACTGGGGGGGTTTTAGAATGACTGGTCTTCGTTCAGAATGTGCTCCTCTAAGGATTATATAATCGCTTATCGTACCCACTCGGATATGGAGATCAGTGCCGAGCAACCTTTGGGATGCGCCTACTTATTTCCTTGGTAGGAGGGAATGCAAGAGGTTAAAGAAACCTCCTTTGTGAACCTTAAATTCGCGGAAATTCGAAATGACGTTGGTACGGTTCCCGCCTCCTTCTTGACTTTAGCAAAGTGTGGTCATCAGATCAGGATATTACCCTCTGCAAGGTCCGGAGTGGCGCTCGTA',\n",
       " 'GCCCTGTGGCCATGTACCGAGAAAATGATCGA']"
      ]
     },
     "execution_count": 3,
     "metadata": {},
     "output_type": "execute_result"
    }
   ],
   "source": [
    "dna_strings"
   ]
  },
  {
   "cell_type": "code",
   "execution_count": 4,
   "id": "52b261eb-e184-4eaa-b857-daa9e60232ce",
   "metadata": {},
   "outputs": [],
   "source": [
    "def inst(seq, sub): \n",
    "    \n",
    "    def find_indices(string, letter): \n",
    "    #Finds all instances of all letters in the substring\n",
    "        return [index+1 for index, char in enumerate(string) if char == letter]\n",
    "        \n",
    "    all_inst={} #Going to store all indices of every letter found in the sequence\n",
    "    \n",
    "    for i in range(len(sub)): \n",
    "        #Stores the indices of the sequence\n",
    "        all_inst[str(i)]=find_indices(seq, sub[i])\n",
    "        \n",
    "    return all_inst"
   ]
  },
  {
   "cell_type": "code",
   "execution_count": 5,
   "id": "ca29b6e7-b6be-4b42-a70a-e1e27850f1a1",
   "metadata": {},
   "outputs": [],
   "source": [
    "all_inst=inst(dna_strings[0], dna_strings[1])"
   ]
  },
  {
   "cell_type": "code",
   "execution_count": 6,
   "id": "60fba4f6-5692-405d-9da7-6de883aeb99b",
   "metadata": {},
   "outputs": [],
   "source": [
    "def find_increasing_permutations(indices_dict, max_permutations=5):\n",
    "    # Extract keys and corresponding index lists from the dictionary\n",
    "    keys = list(indices_dict.keys())\n",
    "    index_lists = [indices_dict[key] for key in keys]\n",
    "    \n",
    "    # This will store all the increasing permutations\n",
    "    all_increasing_permutations = []\n",
    "    permutation_count = 0  # Initialize permutation counter\n",
    "\n",
    "    # Helper function to recursively build increasing permutations\n",
    "    def generate_permutations(current_perm, next_index_list_idx):\n",
    "        nonlocal permutation_count\n",
    "        if permutation_count >= max_permutations:\n",
    "            return  # Stop if the maximum number of permutations is reached\n",
    "\n",
    "        if next_index_list_idx == len(index_lists):\n",
    "            # Reached the end, add the current permutation to the list\n",
    "            all_increasing_permutations.append(current_perm[:])\n",
    "            permutation_count += 1  # Increment the permutation counter\n",
    "            return\n",
    "\n",
    "        # Iterate over each index in the current list\n",
    "        for idx in index_lists[next_index_list_idx]:\n",
    "            if not current_perm or idx > current_perm[-1]:  # Ensure it's an increasing permutation\n",
    "                current_perm.append(idx)\n",
    "                generate_permutations(current_perm, next_index_list_idx + 1)\n",
    "                current_perm.pop()  # Backtrack\n",
    "\n",
    "    # Start generating permutations from the first list\n",
    "    generate_permutations([], 0)\n",
    "\n",
    "    return all_increasing_permutations"
   ]
  },
  {
   "cell_type": "code",
   "execution_count": 7,
   "id": "e84e988e-9542-48d3-8a08-4faaeee003d1",
   "metadata": {},
   "outputs": [],
   "source": [
    "all_perm=find_increasing_permutations(all_inst)"
   ]
  },
  {
   "cell_type": "code",
   "execution_count": 8,
   "id": "01a180bd-86ad-421b-b70b-efb060fc2473",
   "metadata": {},
   "outputs": [
    {
     "name": "stdout",
     "output_type": "stream",
     "text": [
      "12 13 19 20 26 30 35 40 51 58 59 60 73 75 76 77 78 81 82 83 85 91 96 97 98 100 105 109 110 114 116 131\n"
     ]
    }
   ],
   "source": [
    "print(*all_perm[1])"
   ]
  }
 ],
 "metadata": {
  "kernelspec": {
   "display_name": "Python 3 (ipykernel)",
   "language": "python",
   "name": "python3"
  },
  "language_info": {
   "codemirror_mode": {
    "name": "ipython",
    "version": 3
   },
   "file_extension": ".py",
   "mimetype": "text/x-python",
   "name": "python",
   "nbconvert_exporter": "python",
   "pygments_lexer": "ipython3",
   "version": "3.9.12"
  }
 },
 "nbformat": 4,
 "nbformat_minor": 5
}

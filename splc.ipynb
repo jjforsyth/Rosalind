{
 "cells": [
  {
   "cell_type": "markdown",
   "id": "6fc0efd1",
   "metadata": {},
   "source": [
    "Takes a DNA sequence and removes introns (following sequences) and translates it into a protein.\n",
    "\n",
    "See problem here: https://rosalind.info/problems/splc/"
   ]
  },
  {
   "cell_type": "code",
   "execution_count": 1,
   "id": "cabaaa92",
   "metadata": {},
   "outputs": [],
   "source": [
    "import re\n",
    "from Bio.Seq import Seq"
   ]
  },
  {
   "cell_type": "code",
   "execution_count": 2,
   "id": "f40e2d68",
   "metadata": {},
   "outputs": [],
   "source": [
    "with open('./Text_Files/rosalind_splc.txt', 'r') as f:\n",
    "    lines = f.readlines()\n",
    "    for i in range(len(lines)):\n",
    "        lines[i]=lines[i].replace('\\n', '')\n",
    "        \n",
    "dna_strings=[]\n",
    "num=0\n",
    "full_dna=\"\"\n",
    "for l in range(len(lines)):\n",
    "    if lines[l].startswith('>'):\n",
    "        pass\n",
    "    elif l == len(lines)-1:\n",
    "        full_dna=full_dna+lines[l]\n",
    "        num+=1\n",
    "        dna_strings.append(full_dna)\n",
    "        break\n",
    "    elif lines[l+1].startswith('>'):\n",
    "        full_dna=full_dna+lines[l]\n",
    "        num+=1\n",
    "        dna_strings.append(full_dna)\n",
    "        full_dna=\"\"\n",
    "    else:\n",
    "        if full_dna==\"\":\n",
    "            full_dna=lines[l]\n",
    "        else:\n",
    "            full_dna=full_dna+lines[l]"
   ]
  },
  {
   "cell_type": "code",
   "execution_count": 3,
   "id": "00cdef30",
   "metadata": {},
   "outputs": [
    {
     "data": {
      "text/plain": [
       "['ATGAAATTCCTCAACCTAGGGTTGAAGGATGTCGCCGACAATCAGTCAGGTCGAAGGTTGACAGAGGCGGCGGTAAAGGTAATTGGCGGCAATGGTAGAACACGCTCACCTGTGATACCCTGTACCGGTGCTGCGCACTTAGACTCCTTTGCCTCACGGGAGGATCGAGCGTGCGGGAATGAAAGTTTGGAATCAGAAGGTTTGTTATGGGGTTACTCATCCCTGTTGAGAACGTCACGATAAGCCTAACTAACCGCCCTTGCCGCAAGCTTTCGCTTGAAGGGGCGGTGTGGAACTAACCTTAAACAGTCTAAATACGGCAATATAATTACGCGCCTCTAGCCTGTATGTTTCGCCCGAGGCATGTTTTGGGATGAGCCTCATAGGCTGTGAGAAGGCCAGACCTCCCACTCGAATTTGCAAATTTGTCCTGGAAGCTAACGTATACAATGTTTTATCTGTTATATTTGAGGACGGTAGGCATCCTAGCCTGCGACAGAATCGCTATGCCCTCATTATTCCGTGCCGGAATCCTACAGAACCTTGCATCCACGTCCCCCCCACAACAATCATTTGCTTCGATCCAACGCAGGGCAGCCATATGTCCAAACTAAAAAGGTAGTTCGGCGTCAAGACATAGTGGCGCGACGTGGTTTAGAAAGACAAAATGGTTCACGACTATCGACACTTGGCATGGAGGAGCAACACCCGGTCAATATAGCGCGGCCACGCTGAAGCCGGTGTCATATGTTAATAGAGTCACTGGTAAGCTTTCCTAAGGCCCTTCCGCCGTTCCTTATGCATAAAACGCATCAGGCCGTCTTGTGTTCTGGCATGATTCAGCCGTACGACTGAAAGAGACCAGGGCAGCTACCCCGATCACGAGGCTTGTGCAATTCCAGGAAAACAGAAGAGCGTTACCAAAATGAGCGGGGTAATACCTACCGTGACAAGGTTAGTACCTCAGCTTCTTATTACATGCAAGTGGCGGAGTAG',\n",
       " 'CTCATTATTCCGTGCCGGAATCCTACAGAACCTTGCATCCAC',\n",
       " 'GAGGCGGCGGTAAAGGTAATTGGCGGCAATGGTAGAACACGCTCA',\n",
       " 'CATGTTTTGGGATGAGCCTCATAGGCTGTGAGAAGGCCAGACCTCCC',\n",
       " 'TAACCTTAAACAGTCTAAATACGGCAA',\n",
       " 'CCTCAGCTTCTTAT',\n",
       " 'CAGAAGGTTTGTTATGGGGTTACTCATCCCTGTTGAGAACGTCACGATA',\n",
       " 'AGAAAGACAAAATGGT',\n",
       " 'CGGCCACGCTGAAGCCGGTGTCATATGTTAATAGA',\n",
       " 'AAACTAAAAA',\n",
       " 'TAAGGCCCTTCCGCCGTTCCTTATGCATAAAACGCATCAGGC',\n",
       " 'TTTGCCTCACGGGAGGATCGAG',\n",
       " 'TACAATGTTTTATCTGTTATATTTGAGGACGGT',\n",
       " 'ATCACGAGGCTTGTGCAATTCCAGGA']"
      ]
     },
     "execution_count": 3,
     "metadata": {},
     "output_type": "execute_result"
    }
   ],
   "source": [
    "dna_strings"
   ]
  },
  {
   "cell_type": "code",
   "execution_count": 4,
   "id": "9d26927f",
   "metadata": {},
   "outputs": [],
   "source": [
    "preRNA=dna_strings[0]\n",
    "introns=dna_strings[1:len(dna_strings)]"
   ]
  },
  {
   "cell_type": "code",
   "execution_count": 5,
   "id": "8b33f0fc",
   "metadata": {},
   "outputs": [
    {
     "data": {
      "text/plain": [
       "'ATGAAATTCCTCAACCTAGGGTTGAAGGATGTCGCCGACAATCAGTCAGGTCGAAGGTTGACAGAGGCGGCGGTAAAGGTAATTGGCGGCAATGGTAGAACACGCTCACCTGTGATACCCTGTACCGGTGCTGCGCACTTAGACTCCTTTGCCTCACGGGAGGATCGAGCGTGCGGGAATGAAAGTTTGGAATCAGAAGGTTTGTTATGGGGTTACTCATCCCTGTTGAGAACGTCACGATAAGCCTAACTAACCGCCCTTGCCGCAAGCTTTCGCTTGAAGGGGCGGTGTGGAACTAACCTTAAACAGTCTAAATACGGCAATATAATTACGCGCCTCTAGCCTGTATGTTTCGCCCGAGGCATGTTTTGGGATGAGCCTCATAGGCTGTGAGAAGGCCAGACCTCCCACTCGAATTTGCAAATTTGTCCTGGAAGCTAACGTATACAATGTTTTATCTGTTATATTTGAGGACGGTAGGCATCCTAGCCTGCGACAGAATCGCTATGCCCTCATTATTCCGTGCCGGAATCCTACAGAACCTTGCATCCACGTCCCCCCCACAACAATCATTTGCTTCGATCCAACGCAGGGCAGCCATATGTCCAAACTAAAAAGGTAGTTCGGCGTCAAGACATAGTGGCGCGACGTGGTTTAGAAAGACAAAATGGTTCACGACTATCGACACTTGGCATGGAGGAGCAACACCCGGTCAATATAGCGCGGCCACGCTGAAGCCGGTGTCATATGTTAATAGAGTCACTGGTAAGCTTTCCTAAGGCCCTTCCGCCGTTCCTTATGCATAAAACGCATCAGGCCGTCTTGTGTTCTGGCATGATTCAGCCGTACGACTGAAAGAGACCAGGGCAGCTACCCCGATCACGAGGCTTGTGCAATTCCAGGAAAACAGAAGAGCGTTACCAAAATGAGCGGGGTAATACCTACCGTGACAAGGTTAGTACCTCAGCTTCTTATTACATGCAAGTGGCGGAGTAG'"
      ]
     },
     "execution_count": 5,
     "metadata": {},
     "output_type": "execute_result"
    }
   ],
   "source": [
    "preRNA"
   ]
  },
  {
   "cell_type": "code",
   "execution_count": 6,
   "id": "4a79cd56",
   "metadata": {},
   "outputs": [
    {
     "data": {
      "text/plain": [
       "['CTCATTATTCCGTGCCGGAATCCTACAGAACCTTGCATCCAC',\n",
       " 'GAGGCGGCGGTAAAGGTAATTGGCGGCAATGGTAGAACACGCTCA',\n",
       " 'CATGTTTTGGGATGAGCCTCATAGGCTGTGAGAAGGCCAGACCTCCC',\n",
       " 'TAACCTTAAACAGTCTAAATACGGCAA',\n",
       " 'CCTCAGCTTCTTAT',\n",
       " 'CAGAAGGTTTGTTATGGGGTTACTCATCCCTGTTGAGAACGTCACGATA',\n",
       " 'AGAAAGACAAAATGGT',\n",
       " 'CGGCCACGCTGAAGCCGGTGTCATATGTTAATAGA',\n",
       " 'AAACTAAAAA',\n",
       " 'TAAGGCCCTTCCGCCGTTCCTTATGCATAAAACGCATCAGGC',\n",
       " 'TTTGCCTCACGGGAGGATCGAG',\n",
       " 'TACAATGTTTTATCTGTTATATTTGAGGACGGT',\n",
       " 'ATCACGAGGCTTGTGCAATTCCAGGA']"
      ]
     },
     "execution_count": 6,
     "metadata": {},
     "output_type": "execute_result"
    }
   ],
   "source": [
    "introns"
   ]
  },
  {
   "cell_type": "code",
   "execution_count": 7,
   "id": "75fe4811",
   "metadata": {},
   "outputs": [],
   "source": [
    "mRNA = preRNA\n",
    "for i in range(len(introns)):\n",
    "    result = re.search(introns[i], preRNA)\n",
    "    if result.start() == None:\n",
    "        pass\n",
    "    else:\n",
    "        mRNA = mRNA.replace(str(introns[i]), \"\")\n",
    "mRNA = mRNA.replace(\"T\", \"U\")"
   ]
  },
  {
   "cell_type": "code",
   "execution_count": 8,
   "id": "6125c5d4",
   "metadata": {},
   "outputs": [
    {
     "name": "stdout",
     "output_type": "stream",
     "text": [
      "AUGAAAUUCCUCAACCUAGGGUUGAAGGAUGUCGCCGACAAUCAGUCAGGUCGAAGGUUGACACCUGUGAUACCCUGUACCGGUGCUGCGCACUUAGACUCCCGUGCGGGAAUGAAAGUUUGGAAUAGCCUAACUAACCGCCCUUGCCGCAAGCUUUCGCUUGAAGGGGCGGUGUGGAACUAUAAUUACGCGCCUCUAGCCUGUAUGUUUCGCCCGAGGACUCGAAUUUGCAAAUUUGUCCUGGAAGCUAACGUAAGGCAUCCUAGCCUGCGACAGAAUCGCUAUGCCGUCCCCCCCACAACAAUCAUUUGCUUCGAUCCAACGCAGGGCAGCCAUAUGUCCGGUAGUUCGGCGUCAAGACAUAGUGGCGCGACGUGGUUUUCACGACUAUCGACACUUGGCAUGGAGGAGCAACACCCGGUCAAUAUAGCGGUCACUGGUAAGCUUUCCCGUCUUGUGUUCUGGCAUGAUUCAGCCGUACGACUGAAAGAGACCAGGGCAGCUACCCCGAAACAGAAGAGCGUUACCAAAAUGAGCGGGGUAAUACCUACCGUGACAAGGUUAGUAUACAUGCAAGUGGCGGAGUAG\n"
     ]
    }
   ],
   "source": [
    "print(mRNA)"
   ]
  },
  {
   "cell_type": "code",
   "execution_count": 11,
   "id": "28b32601",
   "metadata": {},
   "outputs": [
    {
     "name": "stdout",
     "output_type": "stream",
     "text": [
      "MKFLNLGLKDVADNQSGRRLTPVIPCTGAAHLDSRAGMKVWNSLTNRPCRKLSLEGAVWNYNYAPLACMFRPRTRICKFVLEANVRHPSLRQNRYAVPPTTIICFDPTQGSHMSGSSASRHSGATWFSRLSTLGMEEQHPVNIAVTGKLSRLVFWHDSAVRLKETRAATPKQKSVTKMSGVIPTVTRLVYMQVAE\n"
     ]
    }
   ],
   "source": [
    "print(Seq.translate(mRNA, to_stop=True))"
   ]
  }
 ],
 "metadata": {
  "kernelspec": {
   "display_name": "Python 3 (ipykernel)",
   "language": "python",
   "name": "python3"
  },
  "language_info": {
   "codemirror_mode": {
    "name": "ipython",
    "version": 3
   },
   "file_extension": ".py",
   "mimetype": "text/x-python",
   "name": "python",
   "nbconvert_exporter": "python",
   "pygments_lexer": "ipython3",
   "version": "3.8.9"
  }
 },
 "nbformat": 4,
 "nbformat_minor": 5
}

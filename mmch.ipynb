{
 "cells": [
  {
   "cell_type": "markdown",
   "id": "8f9cd55f-22ff-44af-baef-3b85c57c4ee3",
   "metadata": {},
   "source": [
    "Given: An RNA string s of length at most 100.\n",
    "\n",
    "Return: The total possible number of maximum matchings of basepair edges in the bonding graph of s.\n",
    "\n",
    "See more here: https://rosalind.info/problems/pmch/"
   ]
  },
  {
   "cell_type": "code",
   "execution_count": 1,
   "id": "01c98e11-54ec-4127-8cd3-e619a1047b87",
   "metadata": {},
   "outputs": [
    {
     "data": {
      "text/plain": [
       "['>Rosalind_0618',\n",
       " 'GCAGAAGUGCGCUCUGCUUCGGAUCGUGAUGGAAUCAAACCAAGCUUUGAGGCUUCGUUC',\n",
       " 'ACCUCUUCAACGUGGGCCACCCCACUCUCUUAUG']"
      ]
     },
     "execution_count": 1,
     "metadata": {},
     "output_type": "execute_result"
    }
   ],
   "source": [
    "# Opens file and reads it\n",
    "with open('./Text_Files/rosalind_mmch.txt', 'r') as f:\n",
    "    lines = f.readlines()\n",
    "    for i in range(len(lines)):\n",
    "        lines[i]=lines[i].replace('\\n', '')\n",
    "\n",
    "lines"
   ]
  },
  {
   "cell_type": "code",
   "execution_count": 2,
   "id": "66e2dd59-d254-40f6-a84d-1ff62b765937",
   "metadata": {},
   "outputs": [
    {
     "data": {
      "text/plain": [
       "['GCAGAAGUGCGCUCUGCUUCGGAUCGUGAUGGAAUCAAACCAAGCUUUGAGGCUUCGUUCACCUCUUCAACGUGGGCCACCCCACUCUCUUAUG']"
      ]
     },
     "execution_count": 2,
     "metadata": {},
     "output_type": "execute_result"
    }
   ],
   "source": [
    "# Combines substrings into strings (formatting from rosalind download) and adds them to a list of fasta sequences\n",
    "dna_strings=[]\n",
    "num=0\n",
    "full_dna=\"\"\n",
    "for l in range(len(lines)):\n",
    "    if lines[l].startswith('>'):\n",
    "        pass\n",
    "    elif l == len(lines)-1:\n",
    "        full_dna=full_dna+lines[l]\n",
    "        num+=1\n",
    "        dna_strings.append(full_dna)\n",
    "        break\n",
    "    elif lines[l+1].startswith('>'):\n",
    "        full_dna=full_dna+lines[l]\n",
    "        num+=1\n",
    "        dna_strings.append(full_dna)\n",
    "        full_dna=\"\"\n",
    "    else:\n",
    "        if full_dna==\"\":\n",
    "            full_dna=lines[l]\n",
    "        else:\n",
    "            full_dna=full_dna+lines[l]\n",
    "\n",
    "dna_strings"
   ]
  },
  {
   "cell_type": "code",
   "execution_count": 3,
   "id": "a76246b8-da20-4457-82af-841e1a4f7715",
   "metadata": {},
   "outputs": [
    {
     "data": {
      "text/plain": [
       "9122660403232590156644809165604168663040000000000"
      ]
     },
     "execution_count": 3,
     "metadata": {},
     "output_type": "execute_result"
    }
   ],
   "source": [
    "from math import factorial\n",
    "\n",
    "def pmch(nt):\n",
    "    a,u,g,c = nt.count('A'), nt.count('U'), nt.count('G'), nt.count('C')\n",
    "\n",
    "    AU = int(factorial(max(a, u)) // factorial(max(a, u) - min(a,u)))\n",
    "    GC = int(factorial(max(g, c)) // factorial(max(g, c) - min(g,c)))\n",
    "\n",
    "    return(int(AU * GC))\n",
    "\n",
    "pmch(dna_strings[0])"
   ]
  }
 ],
 "metadata": {
  "kernelspec": {
   "display_name": "Python 3 (ipykernel)",
   "language": "python",
   "name": "python3"
  },
  "language_info": {
   "codemirror_mode": {
    "name": "ipython",
    "version": 3
   },
   "file_extension": ".py",
   "mimetype": "text/x-python",
   "name": "python",
   "nbconvert_exporter": "python",
   "pygments_lexer": "ipython3",
   "version": "3.12.1"
  }
 },
 "nbformat": 4,
 "nbformat_minor": 5
}

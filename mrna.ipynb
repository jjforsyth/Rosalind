{
 "cells": [
  {
   "cell_type": "markdown",
   "id": "4b9ae14b",
   "metadata": {},
   "source": [
    "Given: A protein string of length at most 1000 aa.\n",
    "\n",
    "Return: The total number of different RNA strings from which the protein could have been translated, modulo 1,000,000. (Don't neglect the importance of the stop codon in protein translation.)\n",
    "\n",
    "See problem here https://rosalind.info/problems/mrna/"
   ]
  },
  {
   "cell_type": "code",
   "execution_count": 1,
   "id": "edb89c0f",
   "metadata": {},
   "outputs": [],
   "source": [
    "# Opens file and reads it\n",
    "with open('./Text_Files/rosalind_mrna.txt', 'r') as f:\n",
    "    lines = f.readlines()\n",
    "    for i in range(len(lines)):\n",
    "        lines[i]=lines[i].replace('\\n', '')"
   ]
  },
  {
   "cell_type": "code",
   "execution_count": 2,
   "id": "7e5596d2",
   "metadata": {},
   "outputs": [
    {
     "data": {
      "text/plain": [
       "'MPQRCGEEYNPWQADMDYFPTVQEFDEIHPFVPWTESDYMKACRWVEFDVPTRRSHMCYFSAKNCLICESNVTNDSNMSRQVDTLPQYMRNVQWYHSKVKIDDRLMAFLCTRQCLMVRMTWFQSWHMHAQQGYHISRFATKEIIHHMVWLRYSQYQLYPDYNCFLMEVGDASQEPQHDNITMLQKKWMPHVPNVRHGKFQVISGCNAIPITREPRGHWYWNASMSPIAPMHNNGRWMRATFDAVWRTINYWAPDKEDTMQWERIMNPEMPRLEDAYGDYANSMRQWFEYSERIQYHTTRLTGPNTWPFHYYDRDNDMDYGPFTKYNGKDEHGFHEQSYTGCLCTPCTATRGHFIKPDVNDTRDQHYPHVNDTTHYTKKYTKYIRWIGTNECDHASHTILVHSKDDCNVTHDFKFIPPTGTYCPWLMYYDPPREKNMQQIKGKYIYGQFCNILFKKMPVNSGSEGSETISNWCTELMQQEDKRRKKYHAYRCPIDLYAYTRCFEKTGNSCYSSMNQNTLKPHCLTKLQYQLLGLWNYALDSLDGIWNEFEHIRNRCQFEIVRDNAYIGKASNLNCHVMSYPHCMQPMMLEASKYELILQYQSMLKRKEMMVTWYFNNCVQFMSYSKMCIYVWCPQFGKPNVLNGWREDVCCELTRTYSYQACSDNWDHVPPYKWQKKCMIGGSSMDLFKGLGLEAGVMSKDSRENASTWTYIGETKVECKAPRIDDHRNRITHDHQCHNGRTAWVDELISECMTYYHEDEMFIHFDPQWCMEAFEWCDPDDAWDCQWAWWTYEGDFREPIVVNQEQQVAMWKSIAHYASSNRPHERLQADHDTWIFPIKFGKIESYAMPTTTGYIQAQKKHFSFGMDFTTFPLENRCYWQKLIQAGDNRPTQDKTGGSQPCPKQHLHDMFNHPNQPTPICMAMITRGIKFCVEAGDKNRGLIKAWMCLLYWLDLSYVICWVSMNMTALSYLPQHHNELWEWENINLRRYPQGYVGYSPYY'"
      ]
     },
     "execution_count": 2,
     "metadata": {},
     "output_type": "execute_result"
    }
   ],
   "source": [
    "lines[0]"
   ]
  },
  {
   "cell_type": "code",
   "execution_count": 3,
   "id": "dc94fd64",
   "metadata": {
    "jupyter": {
     "source_hidden": true
    }
   },
   "outputs": [],
   "source": [
    "#Codon table copied from https://rosalind.info/problems/orf/solutions/\n",
    "codon_table = \"\"\"TTT F      CTT L      ATT I      GTT V\n",
    "TTC F      CTC L      ATC I      GTC V\n",
    "TTA L      CTA L      ATA I      GTA V\n",
    "TTG L      CTG L      ATG M      GTG V\n",
    "TCT S      CCT P      ACT T      GCT A\n",
    "TCC S      CCC P      ACC T      GCC A\n",
    "TCA S      CCA P      ACA T      GCA A\n",
    "TCG S      CCG P      ACG T      GCG A\n",
    "TAT Y      CAT H      AAT N      GAT D\n",
    "TAC Y      CAC H      AAC N      GAC D\n",
    "TAA Stop   CAA Q      AAA K      GAA E\n",
    "TAG Stop   CAG Q      AAG K      GAG E\n",
    "TGT C      CGT R      AGT S      GGT G\n",
    "TGC C      CGC R      AGC S      GGC G\n",
    "TGA Stop   CGA R      AGA R      GGA G\n",
    "TGG W      CGG R      AGG R      GGG G\"\"\"\n",
    "\n",
    "codon_table = dict(zip(codon_table.split()[::2], codon_table.split()[1::2]))\n",
    "\n",
    "##############################################################\n",
    "#Reversing the order of the pre-processed codon table because it's easier than re-writing it.\n",
    "aa_table = {'A': [],'C': [], 'D': [], 'E': [], 'F': [], \n",
    "            'G': [], 'H': [],'I': [], 'K': [], 'L': [], \n",
    "            'M': [],'N': [],'P': [], 'Q': [],'R': [], \n",
    "            'S': [], 'T': [], 'V': [], 'W': [], 'Y': [], 'Stop': []}\n",
    "\n",
    "for key in codon_table:\n",
    "    aa_table[codon_table[key]].append(key)"
   ]
  },
  {
   "cell_type": "code",
   "execution_count": 4,
   "id": "6d88ac87",
   "metadata": {
    "collapsed": true,
    "jupyter": {
     "outputs_hidden": true
    }
   },
   "outputs": [
    {
     "data": {
      "text/plain": [
       "{'A': ['GCT', 'GCC', 'GCA', 'GCG'],\n",
       " 'C': ['TGT', 'TGC'],\n",
       " 'D': ['GAT', 'GAC'],\n",
       " 'E': ['GAA', 'GAG'],\n",
       " 'F': ['TTT', 'TTC'],\n",
       " 'G': ['GGT', 'GGC', 'GGA', 'GGG'],\n",
       " 'H': ['CAT', 'CAC'],\n",
       " 'I': ['ATT', 'ATC', 'ATA'],\n",
       " 'K': ['AAA', 'AAG'],\n",
       " 'L': ['CTT', 'CTC', 'TTA', 'CTA', 'TTG', 'CTG'],\n",
       " 'M': ['ATG'],\n",
       " 'N': ['AAT', 'AAC'],\n",
       " 'P': ['CCT', 'CCC', 'CCA', 'CCG'],\n",
       " 'Q': ['CAA', 'CAG'],\n",
       " 'R': ['CGT', 'CGC', 'CGA', 'AGA', 'CGG', 'AGG'],\n",
       " 'S': ['TCT', 'TCC', 'TCA', 'TCG', 'AGT', 'AGC'],\n",
       " 'T': ['ACT', 'ACC', 'ACA', 'ACG'],\n",
       " 'V': ['GTT', 'GTC', 'GTA', 'GTG'],\n",
       " 'W': ['TGG'],\n",
       " 'Y': ['TAT', 'TAC'],\n",
       " 'Stop': ['TAA', 'TAG', 'TGA']}"
      ]
     },
     "execution_count": 4,
     "metadata": {},
     "output_type": "execute_result"
    }
   ],
   "source": [
    "#Now have the sequence of each codon for an amino acid\n",
    "aa_table"
   ]
  },
  {
   "cell_type": "code",
   "execution_count": 5,
   "id": "27bfd2c3",
   "metadata": {},
   "outputs": [],
   "source": [
    "def protein_to_mrna(protein):\n",
    "    #including aa table as part of function, that way if above portion is removed, the function still works\n",
    "    aa_table={'A': ['GCT', 'GCC', 'GCA', 'GCG'],  'C': ['TGT', 'TGC'],  'D': ['GAT', 'GAC'],  'E': ['GAA', 'GAG'],  'F': ['TTT', 'TTC'],  'G': ['GGT', 'GGC', 'GGA', 'GGG'],  'H': ['CAT', 'CAC'],  'I': ['ATT', 'ATC', 'ATA'],  'K': ['AAA', 'AAG'],  'L': ['CTT', 'CTC', 'TTA', 'CTA', 'TTG', 'CTG'],  'M': ['ATG'],  'N': ['AAT', 'AAC'],  'P': ['CCT', 'CCC', 'CCA', 'CCG'],  'Q': ['CAA', 'CAG'],  'R': ['CGT', 'CGC', 'CGA', 'AGA', 'CGG', 'AGG'],  'S': ['TCT', 'TCC', 'TCA', 'TCG', 'AGT', 'AGC'],  'T': ['ACT', 'ACC', 'ACA', 'ACG'],  'V': ['GTT', 'GTC', 'GTA', 'GTG'],  'W': ['TGG'],  'Y': ['TAT', 'TAC'],  'Stop': ['TAA', 'TAG', 'TGA']}\n",
    "    possible_mrnas=[]\n",
    "    for aa in protein:\n",
    "        possible_mrnas.append(len(aa_table[aa]))\n",
    "    possible=1\n",
    "    for num in possible_mrnas:\n",
    "        possible*=num \n",
    "    possible=possible*3 #Multiple by 3 at the end to account for stop codons\n",
    "    return possible % 1000000"
   ]
  },
  {
   "cell_type": "code",
   "execution_count": 6,
   "id": "4e7a5bbe",
   "metadata": {},
   "outputs": [
    {
     "data": {
      "text/plain": [
       "883008"
      ]
     },
     "execution_count": 6,
     "metadata": {},
     "output_type": "execute_result"
    }
   ],
   "source": [
    "protein_to_mrna(lines[0])"
   ]
  }
 ],
 "metadata": {
  "kernelspec": {
   "display_name": "Python 3 (ipykernel)",
   "language": "python",
   "name": "python3"
  },
  "language_info": {
   "codemirror_mode": {
    "name": "ipython",
    "version": 3
   },
   "file_extension": ".py",
   "mimetype": "text/x-python",
   "name": "python",
   "nbconvert_exporter": "python",
   "pygments_lexer": "ipython3",
   "version": "3.8.9"
  }
 },
 "nbformat": 4,
 "nbformat_minor": 5
}

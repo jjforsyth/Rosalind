{
 "cells": [
  {
   "cell_type": "markdown",
   "id": "8a147118-b8fe-4a47-a710-06a866bbaeee",
   "metadata": {},
   "source": [
    "Given: A positive integer n (n≤1000).\n",
    "\n",
    "Return: The total number of subsets of {1,2,…,n} modulo 1,000,000.\n",
    "\n",
    "See more info here: https://rosalind.info/problems/sset/"
   ]
  },
  {
   "cell_type": "code",
   "execution_count": 1,
   "id": "1c414b3e-a882-449e-8be0-f19e4b3957e9",
   "metadata": {},
   "outputs": [
    {
     "data": {
      "text/plain": [
       "['940']"
      ]
     },
     "execution_count": 1,
     "metadata": {},
     "output_type": "execute_result"
    }
   ],
   "source": [
    "# Opens file and reads it\n",
    "with open('./Text_Files/rosalind_sset.txt', 'r') as f:\n",
    "    lines = f.readlines()\n",
    "    for i in range(len(lines)):\n",
    "        lines[i]=lines[i].replace('\\n', '')\n",
    "lines"
   ]
  },
  {
   "cell_type": "code",
   "execution_count": 2,
   "id": "d30d31d6-89f5-4f2a-9b4e-b845172fd77d",
   "metadata": {},
   "outputs": [
    {
     "data": {
      "text/plain": [
       "91776"
      ]
     },
     "execution_count": 2,
     "metadata": {},
     "output_type": "execute_result"
    }
   ],
   "source": [
    "2**int(lines[0]) % 1000000"
   ]
  }
 ],
 "metadata": {
  "kernelspec": {
   "display_name": "Python 3 (ipykernel)",
   "language": "python",
   "name": "python3"
  },
  "language_info": {
   "codemirror_mode": {
    "name": "ipython",
    "version": 3
   },
   "file_extension": ".py",
   "mimetype": "text/x-python",
   "name": "python",
   "nbconvert_exporter": "python",
   "pygments_lexer": "ipython3",
   "version": "3.12.1"
  }
 },
 "nbformat": 4,
 "nbformat_minor": 5
}

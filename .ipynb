{
 "cells": [
  {
   "cell_type": "code",
   "execution_count": 1,
   "id": "60acec31",
   "metadata": {},
   "outputs": [],
   "source": [
    "with open('rosalind_subs.txt', 'r') as f:\n",
    "    lines = f.readlines()\n",
    "    DNA = lines[0]\n",
    "    DNA = DNA.replace('\\n', '')\n",
    "    motif = lines[1]\n",
    "    motif = motif.replace('\\n', '')"
   ]
  },
  {
   "cell_type": "code",
   "execution_count": 2,
   "id": "773c6c56",
   "metadata": {},
   "outputs": [
    {
     "data": {
      "text/plain": [
       "'CGACTACGTATGACTACGCCATAGCGACTACGGACTACGAGGACTACGGACTACGGGACTACGACCCTAGACTACGCAGACTACGCGACTACGAACGACTACGAAGGACTACGCGCCGACTACGTTTTATGGACTACGGACTACGCTGACTACGACGACTACGGACTACGGACTACGCGGGGCGACTACGGAGACTACGGACTACGACGGACTACGACGACTACGTGACGACTACGCTGGACTACGAGGACTACGTAAATTGACTACGGGCCAACAGACTACGTGACTACGACGACTACGCGACTACGTAGGACTACGCACTCACGACTACGGGACTACGGACTACGCGTTTAGGAGACTACGATCGACTACGGACTACGCGAGACTACGTGTCGTGACGACTACGCGACTACGCCTGACTACGCGGCGACTACGCCGTTGGACTACGCGACTACGGGAGACTACGAAAAGACTACGTCAATCTGGGCTTAGACTACGGGACTACGGACTACGGACTACGTGCGAGGCAAGACTACGAGGACTACGTCGACTACGGACTACGGAGACTACGCCTAGACTACGGACTACGCCTGTGACTACGGACTACGGTGACTACGGACTACGAGCAGACTACGGGGACTACGGACTACGGACTACGGACTACGTCTAAACTGACTACGAGACTACGGACTACGAGGACTACGAGGGGACTACGAGACTACGGACTACGACTCACTGACTACGGACTACGTTAAGACTACGGACTACGTTCGACTACGGACTACGCACTGACTACGGACTACGGCCGACTACGGACTACGCCGCGACTACGCCTTTCTACGACTACGTGACTACGCGACTACGTATCCTGGGTCTCATAACGACTACGGACTACGAGACTACGTGACTACGGACTACGGACTACGGACTACGTCCGACTACGTATGACTACGCGACTACG'"
      ]
     },
     "execution_count": 2,
     "metadata": {},
     "output_type": "execute_result"
    }
   ],
   "source": [
    "DNA"
   ]
  },
  {
   "cell_type": "code",
   "execution_count": 3,
   "id": "60843567",
   "metadata": {},
   "outputs": [
    {
     "data": {
      "text/plain": [
       "'GACTACGGA'"
      ]
     },
     "execution_count": 3,
     "metadata": {},
     "output_type": "execute_result"
    }
   ],
   "source": [
    "motif"
   ]
  },
  {
   "cell_type": "code",
   "execution_count": 4,
   "id": "ea236cb5",
   "metadata": {},
   "outputs": [],
   "source": [
    "locations = []"
   ]
  },
  {
   "cell_type": "code",
   "execution_count": 5,
   "id": "00fcc9fe",
   "metadata": {},
   "outputs": [],
   "source": [
    "for i in range(len(DNA)):\n",
    "    if DNA[i:].startswith(motif):\n",
    "        locations.append(i+1)"
   ]
  },
  {
   "cell_type": "code",
   "execution_count": 6,
   "id": "1750cc09",
   "metadata": {},
   "outputs": [
    {
     "name": "stdout",
     "output_type": "stream",
     "text": [
      "[26, 42, 132, 157, 164, 184, 193, 334, 367, 500, 507, 549, 556, 576, 595, 611, 638, 645, 652, 682, 717, 738, 756, 773, 791, 808, 883, 906, 913, 920]\n"
     ]
    }
   ],
   "source": [
    "print(locations)"
   ]
  },
  {
   "cell_type": "code",
   "execution_count": 7,
   "id": "52fb6b68",
   "metadata": {},
   "outputs": [
    {
     "data": {
      "text/plain": [
       "'[26 42 132 157 164 184 193 334 367 500 507 549 556 576 595 611 638 645 652 682 717 738 756 773 791 808 883 906 913 920]'"
      ]
     },
     "execution_count": 7,
     "metadata": {},
     "output_type": "execute_result"
    }
   ],
   "source": [
    "str(locations).replace(',','')"
   ]
  },
  {
   "cell_type": "code",
   "execution_count": null,
   "id": "31120a79",
   "metadata": {},
   "outputs": [],
   "source": []
  }
 ],
 "metadata": {
  "kernelspec": {
   "display_name": "Python 3 (ipykernel)",
   "language": "python",
   "name": "python3"
  },
  "language_info": {
   "codemirror_mode": {
    "name": "ipython",
    "version": 3
   },
   "file_extension": ".py",
   "mimetype": "text/x-python",
   "name": "python",
   "nbconvert_exporter": "python",
   "pygments_lexer": "ipython3",
   "version": "3.8.9"
  }
 },
 "nbformat": 4,
 "nbformat_minor": 5
}

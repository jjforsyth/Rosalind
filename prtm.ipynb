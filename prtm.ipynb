{
 "cells": [
  {
   "cell_type": "markdown",
   "id": "91220340",
   "metadata": {},
   "source": [
    "Take a protein sequence (within 20 letter alphabet) and returns the weight of the protein"
   ]
  },
  {
   "cell_type": "code",
   "execution_count": 1,
   "id": "a1238002",
   "metadata": {},
   "outputs": [],
   "source": [
    "# Opens file and reads it\n",
    "with open('./Text_Files/rosalind_prtm.txt', 'r') as f:\n",
    "    lines = f.readlines()\n",
    "    for i in range(len(lines)):\n",
    "        lines[i]=lines[i].replace('\\n', '')"
   ]
  },
  {
   "cell_type": "code",
   "execution_count": 5,
   "id": "4af52b89",
   "metadata": {},
   "outputs": [
    {
     "data": {
      "text/plain": [
       "'HDLDNLNVCMCGWILGQLDGEWNDSARIHYLEIIDSWILHVQVDHEWQKDKMSRWEYLLLKWWNSRVRIDGPKNYKWHKKTNDYLKDLWHSSFKLGYSNVGCKSLLMDPPQFNIHVCMNQLQMMTRNSNTGICRWYLMTQDAWSRGKLQQFRAIEDMAILTLALCMQSSLKYSWGYPDTWYYDKQSMHYLNAKIRMMRLTHAMEYRRTGLFAWFPYQCDQILQSVFPKVFSVCAGDPWLYYIPLLQDYMVHDSRKWMKPYQDMLCQAHQHPWHCGNKSWGQDHYHGFVYYCILSNMMMGLFCQWEKNGGEVGAWHAWRWVYEFSHELMRQGEDPWYIYVAAAKVVRPSRQHNHWDSFLCPQHNACFYPTCSVVFNNMPKDVHAVSYSETDFHSNMFVVLSTVLVRHRYAEIAAWDVRLFDKSIYLHRQTSLVFFTYPNIVCCIASLMVHRGWPNCIRCAMMLTDSSWIVWLAQPDEQPCSLKFPIQAFPNNCHSRQEWLYGDPEANNLAARPIWPIVVAQHSIGFWEAYKASYGLINPRRAQQALSWYTYHAFWQQMLHVDYTHQCRHLKGRRRCFVSNAKLEYSPQKGAMAHACNNWKRRKRYCYADKAGTGPHYLPNMNWLWKWEKRANGLCDCPSTKLPETQDRMQNIYAENETCPRQQALESTYADWEPGPRMWSKYGDIVAKFIGHCPIIMIELSEVSKHCIKPKFDRTEYCTLPFNQHIKSGCSRGARLMFNRNCQYMTFPEVQHMYQQSVREEEIGIVIIFAKYITASYVHDEMNNHDAFRFHHANYMCDDTMIPKSYIQELYSLPVMDDAQYEVIKSTLWTVKRAEADIRKGYVTPYDQQPWSHATKTFPQQKHTVLMVHYHLNRWKAVMTYYKYHMAMYTIDWYHREEMMYMYFGRTK'"
      ]
     },
     "execution_count": 5,
     "metadata": {},
     "output_type": "execute_result"
    }
   ],
   "source": [
    "lines[0]"
   ]
  },
  {
   "cell_type": "code",
   "execution_count": 3,
   "id": "5adb646a",
   "metadata": {},
   "outputs": [],
   "source": [
    "def protein_weight(protein):\n",
    "    \n",
    "    aa_mt={'A': 71.03711,\n",
    "    'C': 103.00919,\n",
    "    'D': 115.02694,\n",
    "    'E': 129.04259,\n",
    "    'F': 147.06841,\n",
    "    'G': 57.02146,\n",
    "    'H': 137.05891,\n",
    "    'I': 113.08406,\n",
    "    'K': 128.09496,\n",
    "    'L': 113.08406,\n",
    "    'M': 131.04049,\n",
    "    'N': 114.04293,\n",
    "    'P': 97.05276,\n",
    "    'Q': 128.05858,\n",
    "    'R': 156.10111,\n",
    "    'S': 87.03203,\n",
    "    'T': 101.04768,\n",
    "    'V': 99.06841,\n",
    "    'W': 186.07931,\n",
    "    'Y': 163.06333}\n",
    "    \n",
    "    weight=0\n",
    "    for aa in protein:\n",
    "        weight+=aa_mt[aa]\n",
    "    return weight"
   ]
  },
  {
   "cell_type": "code",
   "execution_count": 4,
   "id": "ebd80de9",
   "metadata": {},
   "outputs": [
    {
     "data": {
      "text/plain": [
       "108305.94661000052"
      ]
     },
     "execution_count": 4,
     "metadata": {},
     "output_type": "execute_result"
    }
   ],
   "source": [
    "protein_weight(lines[0])"
   ]
  }
 ],
 "metadata": {
  "kernelspec": {
   "display_name": "Python 3 (ipykernel)",
   "language": "python",
   "name": "python3"
  },
  "language_info": {
   "codemirror_mode": {
    "name": "ipython",
    "version": 3
   },
   "file_extension": ".py",
   "mimetype": "text/x-python",
   "name": "python",
   "nbconvert_exporter": "python",
   "pygments_lexer": "ipython3",
   "version": "3.8.9"
  }
 },
 "nbformat": 4,
 "nbformat_minor": 5
}

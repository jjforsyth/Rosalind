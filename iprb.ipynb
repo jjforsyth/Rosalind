{
 "cells": [
  {
   "cell_type": "markdown",
   "id": "8fd351af",
   "metadata": {},
   "source": [
    "Calculating probability of the offspring of 2 randomly selected individuals will have a dominant phenotype.\n",
    "\n",
    "See associated problem here: https://rosalind.info/problems/lcsm/"
   ]
  },
  {
   "cell_type": "code",
   "execution_count": 6,
   "id": "05a5d5fa",
   "metadata": {},
   "outputs": [],
   "source": [
    "k=29 # LL\n",
    "m=26 # Ll\n",
    "n=23 # ll\n",
    "\n",
    "total=k+m+n"
   ]
  },
  {
   "cell_type": "code",
   "execution_count": 10,
   "id": "61823e72",
   "metadata": {},
   "outputs": [],
   "source": [
    "matrix=[\n",
    "    k*(k-1), # LL x LL\n",
    "    k*m, # LL x Ll\n",
    "    k*n, # LL x ll\n",
    "    m*k, # Ll x LL\n",
    "    m*(m-1)*.75, # Ll x Ll\n",
    "    m*n*.5, # Ll x ll\n",
    "    n*k, # ll x LL\n",
    "    n*m*.5, # ll * Ll\n",
    "    n*(n-1)*0 # ll * ll\n",
    "       ]\n",
    "\n",
    "#Copied from https://stackoverflow.com/questions/26385968/rosalind-mendels-first-law"
   ]
  },
  {
   "cell_type": "code",
   "execution_count": 11,
   "id": "3050f9ae",
   "metadata": {},
   "outputs": [
    {
     "data": {
      "text/plain": [
       "4739.5"
      ]
     },
     "execution_count": 11,
     "metadata": {},
     "output_type": "execute_result"
    }
   ],
   "source": [
    "sum(matrix)"
   ]
  },
  {
   "cell_type": "code",
   "execution_count": 9,
   "id": "6b462936",
   "metadata": {},
   "outputs": [
    {
     "data": {
      "text/plain": [
       "0.7891275391275391"
      ]
     },
     "execution_count": 9,
     "metadata": {},
     "output_type": "execute_result"
    }
   ],
   "source": [
    "sum(matrix)/total/(total-1)"
   ]
  }
 ],
 "metadata": {
  "kernelspec": {
   "display_name": "Python 3 (ipykernel)",
   "language": "python",
   "name": "python3"
  },
  "language_info": {
   "codemirror_mode": {
    "name": "ipython",
    "version": 3
   },
   "file_extension": ".py",
   "mimetype": "text/x-python",
   "name": "python",
   "nbconvert_exporter": "python",
   "pygments_lexer": "ipython3",
   "version": "3.8.9"
  }
 },
 "nbformat": 4,
 "nbformat_minor": 5
}

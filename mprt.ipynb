{
 "cells": [
  {
   "cell_type": "code",
   "execution_count": 1,
   "id": "95e5b360",
   "metadata": {},
   "outputs": [],
   "source": [
    "import urllib.request\n",
    "import re"
   ]
  },
  {
   "cell_type": "code",
   "execution_count": 2,
   "id": "33231abf",
   "metadata": {},
   "outputs": [],
   "source": [
    "with open('./Text_Files/rosalind_mprt.txt', 'r') as f:\n",
    "    lines = f.readlines()\n",
    "    for i in range(len(lines)):\n",
    "        lines[i]=lines[i].replace('\\n', '')"
   ]
  },
  {
   "cell_type": "code",
   "execution_count": 3,
   "id": "a0d73d1b",
   "metadata": {},
   "outputs": [
    {
     "data": {
      "text/plain": [
       "['P00740_FA9_HUMAN',\n",
       " 'P01044_KNH1_BOVIN',\n",
       " 'P01045_KNH2_BOVIN',\n",
       " 'A8F2D7',\n",
       " 'P0AEI6',\n",
       " 'A6UUD2',\n",
       " 'Q7TMB8',\n",
       " 'P27918_PROP_HUMAN',\n",
       " 'A7Y3H6',\n",
       " 'B4S2L7',\n",
       " 'P01374_TNFB_HUMAN',\n",
       " 'Q8ER84',\n",
       " 'P28314_PER_COPCI']"
      ]
     },
     "execution_count": 3,
     "metadata": {},
     "output_type": "execute_result"
    }
   ],
   "source": [
    "lines"
   ]
  },
  {
   "cell_type": "code",
   "execution_count": 5,
   "id": "43fe0350",
   "metadata": {},
   "outputs": [],
   "source": [
    "def uniprot_reader(link):\n",
    "    data=urllib.request.urlopen(link)\n",
    "    a=data.readlines()\n",
    "    num=0\n",
    "    full_dna=\"\"\n",
    "    for l in range(len(a)):\n",
    "        line = a[l].decode('utf-8').replace('\\n', '')\n",
    "        if l == len(a)-1:\n",
    "            full_dna = full_dna + a[l].decode('utf-8').replace('\\n', '')\n",
    "            num +=1\n",
    "            break\n",
    "        elif line[l].startswith('>'):\n",
    "            pass\n",
    "        elif a[l+1].decode('utf-8').startswith('>'):\n",
    "            full_dna=full_dna + a[l].decode('utf-8').replace('\\n', '')\n",
    "            num+=1\n",
    "            full_dna=\"\"\n",
    "        else:\n",
    "            if full_dna==\"\":\n",
    "                full_dna=a[l].decode('utf-8').replace('\\n', '')\n",
    "            else:\n",
    "                full_dna=full_dna+a[l].decode('utf-8').replace('\\n', '')\n",
    "    return full_dna"
   ]
  },
  {
   "cell_type": "code",
   "execution_count": 6,
   "id": "d9d1bdf4",
   "metadata": {},
   "outputs": [
    {
     "name": "stdout",
     "output_type": "stream",
     "text": [
      "http://www.uniprot.org/uniprot/P00740.fasta\n",
      "http://www.uniprot.org/uniprot/P01044.fasta\n",
      "http://www.uniprot.org/uniprot/P01045.fasta\n",
      "http://www.uniprot.org/uniprot/A8F2D7.fasta\n",
      "http://www.uniprot.org/uniprot/P0AEI6.fasta\n",
      "http://www.uniprot.org/uniprot/A6UUD2.fasta\n",
      "http://www.uniprot.org/uniprot/Q7TMB8.fasta\n",
      "http://www.uniprot.org/uniprot/P27918.fasta\n",
      "http://www.uniprot.org/uniprot/A7Y3H6.fasta\n",
      "http://www.uniprot.org/uniprot/B4S2L7.fasta\n",
      "http://www.uniprot.org/uniprot/P01374.fasta\n",
      "http://www.uniprot.org/uniprot/Q8ER84.fasta\n",
      "http://www.uniprot.org/uniprot/P28314.fasta\n"
     ]
    }
   ],
   "source": [
    "uniprot_dict={}\n",
    "for name in lines:\n",
    "    upt_link=\"http://www.uniprot.org/uniprot/\"+name[0:6]+\".fasta\"\n",
    "    print(upt_link)\n",
    "    uniprot_dict[name]=uniprot_reader(upt_link)"
   ]
  },
  {
   "cell_type": "code",
   "execution_count": 7,
   "id": "92ab103d",
   "metadata": {},
   "outputs": [
    {
     "name": "stdout",
     "output_type": "stream",
     "text": [
      "P00740_FA9_HUMAN\n",
      "203 213\n",
      "P01044_KNH1_BOVIN\n",
      "47 87 168 197 204 169\n",
      "P01045_KNH2_BOVIN\n",
      "47 87 168 197 204 280 169\n",
      "A6UUD2\n",
      "155 273\n",
      "Q7TMB8\n",
      "209 291 328 442 607 672 831 858\n",
      "P27918_PROP_HUMAN\n",
      "428\n",
      "B4S2L7\n",
      "33\n",
      "P01374_TNFB_HUMAN\n",
      "96\n",
      "Q8ER84\n",
      "33\n",
      "P28314_PER_COPCI\n",
      "162\n"
     ]
    }
   ],
   "source": [
    "motif=\"N[^P][S|T][^P]\"\n",
    "\n",
    "for i in range(len(uniprot_dict)):\n",
    "    protein = uniprot_dict[lines[i]]\n",
    "    #matches = [[m.start(),m.end()] for m in re.finditer(\"N[^P][S|T][^P]\", protein)]\n",
    "    matches = [m.start()+1 for m in re.finditer(motif, protein)]\n",
    "    if matches == []:\n",
    "        pass\n",
    "    else:\n",
    "        for j in range(len(matches)):\n",
    "            for k in range(5):\n",
    "                inner_match = [m.start()+1 for m in re.finditer(motif, protein[(matches[j]+k):(matches[j]+k+4)])]\n",
    "                if inner_match != []:\n",
    "                    matches.append(int(matches[j]+k+1))\n",
    "        print(lines[i])\n",
    "        print(str(matches).replace(\",\", \"\").replace(\"[\",\"\").replace(\"]\",\"\"))"
   ]
  }
 ],
 "metadata": {
  "kernelspec": {
   "display_name": "Python 3 (ipykernel)",
   "language": "python",
   "name": "python3"
  },
  "language_info": {
   "codemirror_mode": {
    "name": "ipython",
    "version": 3
   },
   "file_extension": ".py",
   "mimetype": "text/x-python",
   "name": "python",
   "nbconvert_exporter": "python",
   "pygments_lexer": "ipython3",
   "version": "3.8.9"
  }
 },
 "nbformat": 4,
 "nbformat_minor": 5
}
